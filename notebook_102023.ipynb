{
 "cells": [
  {
   "cell_type": "markdown",
   "id": "b40cd4ae",
   "metadata": {},
   "source": [
    "<div style=\"text-align:center; background-color:#001F3F; color:white; padding:10px;\">\n",
    "    <h1>Étude sur l’alimentation dans le monde</h1>\n",
    "</div>\n"
   ]
  },
  {
   "cell_type": "markdown",
   "id": "b1649314",
   "metadata": {},
   "source": [
    "<div style=\"border: 2px solid #001F3F; background-color: #FFFFFF; padding: 10px; text-align: center;\">\n",
    "    <h2 style=\"font-weight: bold; color: #001F3F;\">Etape 1 - Importation des librairies et chargement des fichiers</h2>\n",
    "</div>"
   ]
  },
  {
   "cell_type": "markdown",
   "id": "fbcfab9f",
   "metadata": {},
   "source": [
    "<h3 style=\"border-left: 5px solid #0074CC; font-weight: bold; color: #0060A8; padding-left: 10px;\">1.1 - Importation des librairies</h3>\n",
    "<hr style=\"border: 1px solid #0074CC;\">"
   ]
  },
  {
   "cell_type": "code",
   "execution_count": 632,
   "id": "458c0f11",
   "metadata": {},
   "outputs": [],
   "source": [
    "#Importation de la librairie Pandas\n",
    "import pandas as pd"
   ]
  },
  {
   "cell_type": "markdown",
   "id": "2f88f421",
   "metadata": {},
   "source": [
    "<h3 style=\"border-left: 5px solid #0074CC; font-weight: bold; color: #0060A8; padding-left: 10px;\">1.2 - Chargement des fichiers Excel</h3>\n",
    "<hr style=\"border: 1px solid #0074CC;\">"
   ]
  },
  {
   "cell_type": "code",
   "execution_count": 633,
   "id": "586a6453",
   "metadata": {},
   "outputs": [],
   "source": [
    "#Importation du fichier population.csv\n",
    "population = pd.read_csv('/Users/Bouboule/Documents/population.csv')\n",
    "\n",
    "#Importation du fichier dispo_alimentaire.csv\n",
    "dispoAlimentaire = pd.read_csv('/Users/Bouboule/Documents/dispo_alimentaire.csv')\n",
    "\n",
    "#Importation du fichier aide_alimentaire.csv\n",
    "aideAlimentaire = pd.read_csv('/Users/Bouboule/Documents/aide_alimentaire.csv')\n",
    "\n",
    "#Importation du fichier sous_nutrition.csv\n",
    "sousNutrition = pd.read_csv('/Users/Bouboule/Documents/sous_nutrition.csv')"
   ]
  },
  {
   "cell_type": "markdown",
   "id": "e1e1abbb",
   "metadata": {},
   "source": [
    "<div style=\"border: 2px solid #001F3F; background-color: #FFFFFF; padding: 10px; text-align: center;\">\n",
    "    <h2 style=\"font-weight: bold; color: #001F3F;\">Etape 2 - Analyse exploratoire des fichiers</h2>\n",
    "</div>"
   ]
  },
  {
   "cell_type": "markdown",
   "id": "3b001955",
   "metadata": {},
   "source": [
    "<h3 style=\"border-left: 5px solid #0074CC; font-weight: bold; color: #0060A8; padding-left: 10px;\">2.1 - Analyse exploratoire du fichier population</h3>\n",
    "<hr style=\"border: 1px solid #0074CC;\">"
   ]
  },
  {
   "cell_type": "code",
   "execution_count": 634,
   "id": "8fac43c3",
   "metadata": {},
   "outputs": [
    {
     "name": "stdout",
     "output_type": "stream",
     "text": [
      "Le tableau comporte 1416 observation(s) ou article(s)\n",
      "Le tableau comporte 3 colonne(s)\n"
     ]
    }
   ],
   "source": [
    "#Afficher les dimensions du dataset\n",
    "print(\"Le tableau comporte {} observation(s) ou article(s)\".format(population.shape[0]))\n",
    "print(\"Le tableau comporte {} colonne(s)\".format(population.shape[1]))"
   ]
  },
  {
   "cell_type": "code",
   "execution_count": 635,
   "id": "a6bb88bf",
   "metadata": {},
   "outputs": [
    {
     "name": "stdout",
     "output_type": "stream",
     "text": [
      "<class 'pandas.core.frame.DataFrame'>\n",
      "RangeIndex: 1416 entries, 0 to 1415\n",
      "Data columns (total 3 columns):\n",
      " #   Column  Non-Null Count  Dtype  \n",
      "---  ------  --------------  -----  \n",
      " 0   Zone    1416 non-null   object \n",
      " 1   Année   1416 non-null   int64  \n",
      " 2   Valeur  1416 non-null   float64\n",
      "dtypes: float64(1), int64(1), object(1)\n",
      "memory usage: 33.3+ KB\n"
     ]
    }
   ],
   "source": [
    "#Consulter le nombre de colonnes\n",
    "population.info()"
   ]
  },
  {
   "cell_type": "code",
   "execution_count": 636,
   "id": "bcb80a0a",
   "metadata": {},
   "outputs": [
    {
     "data": {
      "text/html": [
       "<div>\n",
       "<style scoped>\n",
       "    .dataframe tbody tr th:only-of-type {\n",
       "        vertical-align: middle;\n",
       "    }\n",
       "\n",
       "    .dataframe tbody tr th {\n",
       "        vertical-align: top;\n",
       "    }\n",
       "\n",
       "    .dataframe thead th {\n",
       "        text-align: right;\n",
       "    }\n",
       "</style>\n",
       "<table border=\"1\" class=\"dataframe\">\n",
       "  <thead>\n",
       "    <tr style=\"text-align: right;\">\n",
       "      <th></th>\n",
       "      <th>Zone</th>\n",
       "      <th>Année</th>\n",
       "      <th>Valeur</th>\n",
       "    </tr>\n",
       "  </thead>\n",
       "  <tbody>\n",
       "    <tr>\n",
       "      <th>0</th>\n",
       "      <td>Afghanistan</td>\n",
       "      <td>2013</td>\n",
       "      <td>32269.589</td>\n",
       "    </tr>\n",
       "    <tr>\n",
       "      <th>1</th>\n",
       "      <td>Afghanistan</td>\n",
       "      <td>2014</td>\n",
       "      <td>33370.794</td>\n",
       "    </tr>\n",
       "    <tr>\n",
       "      <th>2</th>\n",
       "      <td>Afghanistan</td>\n",
       "      <td>2015</td>\n",
       "      <td>34413.603</td>\n",
       "    </tr>\n",
       "    <tr>\n",
       "      <th>3</th>\n",
       "      <td>Afghanistan</td>\n",
       "      <td>2016</td>\n",
       "      <td>35383.032</td>\n",
       "    </tr>\n",
       "    <tr>\n",
       "      <th>4</th>\n",
       "      <td>Afghanistan</td>\n",
       "      <td>2017</td>\n",
       "      <td>36296.113</td>\n",
       "    </tr>\n",
       "  </tbody>\n",
       "</table>\n",
       "</div>"
      ],
      "text/plain": [
       "          Zone  Année     Valeur\n",
       "0  Afghanistan   2013  32269.589\n",
       "1  Afghanistan   2014  33370.794\n",
       "2  Afghanistan   2015  34413.603\n",
       "3  Afghanistan   2016  35383.032\n",
       "4  Afghanistan   2017  36296.113"
      ]
     },
     "execution_count": 636,
     "metadata": {},
     "output_type": "execute_result"
    }
   ],
   "source": [
    "#Affichage des 5 premières lignes de la table\n",
    "population.head()"
   ]
  },
  {
   "cell_type": "code",
   "execution_count": 637,
   "id": "81e70ed1",
   "metadata": {},
   "outputs": [],
   "source": [
    "#Multiplication de la colonne valeur par 1000\n",
    "population['Valeur']*=1000"
   ]
  },
  {
   "cell_type": "code",
   "execution_count": 638,
   "id": "bd917d70",
   "metadata": {},
   "outputs": [],
   "source": [
    "#changement du nom de la colonne Valeur par Population\n",
    "population.rename(columns={'Valeur': 'Population'}, inplace=True)"
   ]
  },
  {
   "cell_type": "code",
   "execution_count": 639,
   "id": "d39ebb76",
   "metadata": {},
   "outputs": [
    {
     "data": {
      "text/html": [
       "<div>\n",
       "<style scoped>\n",
       "    .dataframe tbody tr th:only-of-type {\n",
       "        vertical-align: middle;\n",
       "    }\n",
       "\n",
       "    .dataframe tbody tr th {\n",
       "        vertical-align: top;\n",
       "    }\n",
       "\n",
       "    .dataframe thead th {\n",
       "        text-align: right;\n",
       "    }\n",
       "</style>\n",
       "<table border=\"1\" class=\"dataframe\">\n",
       "  <thead>\n",
       "    <tr style=\"text-align: right;\">\n",
       "      <th></th>\n",
       "      <th>Zone</th>\n",
       "      <th>Année</th>\n",
       "      <th>Population</th>\n",
       "    </tr>\n",
       "  </thead>\n",
       "  <tbody>\n",
       "    <tr>\n",
       "      <th>0</th>\n",
       "      <td>Afghanistan</td>\n",
       "      <td>2013</td>\n",
       "      <td>32269589.0</td>\n",
       "    </tr>\n",
       "    <tr>\n",
       "      <th>1</th>\n",
       "      <td>Afghanistan</td>\n",
       "      <td>2014</td>\n",
       "      <td>33370794.0</td>\n",
       "    </tr>\n",
       "    <tr>\n",
       "      <th>2</th>\n",
       "      <td>Afghanistan</td>\n",
       "      <td>2015</td>\n",
       "      <td>34413603.0</td>\n",
       "    </tr>\n",
       "    <tr>\n",
       "      <th>3</th>\n",
       "      <td>Afghanistan</td>\n",
       "      <td>2016</td>\n",
       "      <td>35383032.0</td>\n",
       "    </tr>\n",
       "    <tr>\n",
       "      <th>4</th>\n",
       "      <td>Afghanistan</td>\n",
       "      <td>2017</td>\n",
       "      <td>36296113.0</td>\n",
       "    </tr>\n",
       "  </tbody>\n",
       "</table>\n",
       "</div>"
      ],
      "text/plain": [
       "          Zone  Année  Population\n",
       "0  Afghanistan   2013  32269589.0\n",
       "1  Afghanistan   2014  33370794.0\n",
       "2  Afghanistan   2015  34413603.0\n",
       "3  Afghanistan   2016  35383032.0\n",
       "4  Afghanistan   2017  36296113.0"
      ]
     },
     "execution_count": 639,
     "metadata": {},
     "output_type": "execute_result"
    }
   ],
   "source": [
    "#Affichage les 5 premières lignes de la table pour voir les modifications\n",
    "population.head()"
   ]
  },
  {
   "cell_type": "markdown",
   "id": "26ff41de",
   "metadata": {},
   "source": [
    "<h3 style=\"border-left: 5px solid #0074CC; font-weight: bold; color: #0060A8; padding-left: 10px;\">2.2 - Analyse exploratoire du fichier disponibilité alimentaire</h3>\n",
    "<hr style=\"border: 1px solid #0074CC;\">"
   ]
  },
  {
   "cell_type": "code",
   "execution_count": 640,
   "id": "7dddb9e3",
   "metadata": {},
   "outputs": [
    {
     "name": "stdout",
     "output_type": "stream",
     "text": [
      "Le tableau comporte 15605 observation(s) ou article(s)\n",
      "Le tableau comporte 18 colonne(s)\n"
     ]
    }
   ],
   "source": [
    "#Afficher les dimensions du dataset\n",
    "print(\"Le tableau comporte {} observation(s) ou article(s)\".format(dispoAlimentaire.shape[0]))\n",
    "print(\"Le tableau comporte {} colonne(s)\".format(dispoAlimentaire.shape[1]))"
   ]
  },
  {
   "cell_type": "code",
   "execution_count": 641,
   "id": "b43e5722",
   "metadata": {},
   "outputs": [
    {
     "name": "stdout",
     "output_type": "stream",
     "text": [
      "<class 'pandas.core.frame.DataFrame'>\n",
      "RangeIndex: 15605 entries, 0 to 15604\n",
      "Data columns (total 18 columns):\n",
      " #   Column                                                         Non-Null Count  Dtype  \n",
      "---  ------                                                         --------------  -----  \n",
      " 0   Zone                                                           15605 non-null  object \n",
      " 1   Produit                                                        15605 non-null  object \n",
      " 2   Origine                                                        15605 non-null  object \n",
      " 3   Aliments pour animaux                                          2720 non-null   float64\n",
      " 4   Autres Utilisations                                            5496 non-null   float64\n",
      " 5   Disponibilité alimentaire (Kcal/personne/jour)                 14241 non-null  float64\n",
      " 6   Disponibilité alimentaire en quantité (kg/personne/an)         14015 non-null  float64\n",
      " 7   Disponibilité de matière grasse en quantité (g/personne/jour)  11794 non-null  float64\n",
      " 8   Disponibilité de protéines en quantité (g/personne/jour)       11561 non-null  float64\n",
      " 9   Disponibilité intérieure                                       15382 non-null  float64\n",
      " 10  Exportations - Quantité                                        12226 non-null  float64\n",
      " 11  Importations - Quantité                                        14852 non-null  float64\n",
      " 12  Nourriture                                                     14015 non-null  float64\n",
      " 13  Pertes                                                         4278 non-null   float64\n",
      " 14  Production                                                     9180 non-null   float64\n",
      " 15  Semences                                                       2091 non-null   float64\n",
      " 16  Traitement                                                     2292 non-null   float64\n",
      " 17  Variation de stock                                             6776 non-null   float64\n",
      "dtypes: float64(15), object(3)\n",
      "memory usage: 2.1+ MB\n"
     ]
    }
   ],
   "source": [
    "#Consulter le nombre de colonnes\n",
    "dispoAlimentaire.info()"
   ]
  },
  {
   "cell_type": "code",
   "execution_count": 642,
   "id": "ddc83f40",
   "metadata": {},
   "outputs": [],
   "source": [
    "# Remplacement des NaN par 0\n",
    "dispoAlimentaire.fillna(0, inplace=True)"
   ]
  },
  {
   "cell_type": "code",
   "execution_count": 643,
   "id": "05252887",
   "metadata": {},
   "outputs": [
    {
     "data": {
      "text/plain": [
       "<bound method DataFrame.info of                Zone                Produit   Origine  Aliments pour animaux  \\\n",
       "0       Afghanistan       Abats Comestible   animale                    0.0   \n",
       "1       Afghanistan        Agrumes, Autres  vegetale                    0.0   \n",
       "2       Afghanistan  Aliments pour enfants  vegetale                    0.0   \n",
       "3       Afghanistan                 Ananas  vegetale                    0.0   \n",
       "4       Afghanistan                Bananes  vegetale                    0.0   \n",
       "...             ...                    ...       ...                    ...   \n",
       "15600  Îles Salomon       Viande de Suides   animale                    0.0   \n",
       "15601  Îles Salomon    Viande de Volailles   animale                    0.0   \n",
       "15602  Îles Salomon          Viande, Autre   animale                    0.0   \n",
       "15603  Îles Salomon                    Vin  vegetale                    0.0   \n",
       "15604  Îles Salomon         Épices, Autres  vegetale                    0.0   \n",
       "\n",
       "       Autres Utilisations  Disponibilité alimentaire (Kcal/personne/jour)  \\\n",
       "0                      0.0                                             5.0   \n",
       "1                      0.0                                             1.0   \n",
       "2                      0.0                                             1.0   \n",
       "3                      0.0                                             0.0   \n",
       "4                      0.0                                             4.0   \n",
       "...                    ...                                             ...   \n",
       "15600                  0.0                                            45.0   \n",
       "15601                  0.0                                            11.0   \n",
       "15602                  0.0                                             0.0   \n",
       "15603                  0.0                                             0.0   \n",
       "15604                  0.0                                             4.0   \n",
       "\n",
       "       Disponibilité alimentaire en quantité (kg/personne/an)  \\\n",
       "0                                                   1.72        \n",
       "1                                                   1.29        \n",
       "2                                                   0.06        \n",
       "3                                                   0.00        \n",
       "4                                                   2.70        \n",
       "...                                                  ...        \n",
       "15600                                               4.70        \n",
       "15601                                               3.34        \n",
       "15602                                               0.06        \n",
       "15603                                               0.07        \n",
       "15604                                               0.48        \n",
       "\n",
       "       Disponibilité de matière grasse en quantité (g/personne/jour)  \\\n",
       "0                                                   0.20               \n",
       "1                                                   0.01               \n",
       "2                                                   0.01               \n",
       "3                                                   0.00               \n",
       "4                                                   0.02               \n",
       "...                                                  ...               \n",
       "15600                                               4.28               \n",
       "15601                                               0.69               \n",
       "15602                                               0.00               \n",
       "15603                                               0.00               \n",
       "15604                                               0.21               \n",
       "\n",
       "       Disponibilité de protéines en quantité (g/personne/jour)  \\\n",
       "0                                                   0.77          \n",
       "1                                                   0.02          \n",
       "2                                                   0.03          \n",
       "3                                                   0.00          \n",
       "4                                                   0.05          \n",
       "...                                                  ...          \n",
       "15600                                               1.41          \n",
       "15601                                               1.14          \n",
       "15602                                               0.04          \n",
       "15603                                               0.00          \n",
       "15604                                               0.15          \n",
       "\n",
       "       Disponibilité intérieure  Exportations - Quantité  \\\n",
       "0                          53.0                      0.0   \n",
       "1                          41.0                      2.0   \n",
       "2                           2.0                      0.0   \n",
       "3                           0.0                      0.0   \n",
       "4                          82.0                      0.0   \n",
       "...                         ...                      ...   \n",
       "15600                       3.0                      0.0   \n",
       "15601                       2.0                      0.0   \n",
       "15602                       0.0                      0.0   \n",
       "15603                       0.0                      0.0   \n",
       "15604                       0.0                      0.0   \n",
       "\n",
       "       Importations - Quantité  Nourriture  Pertes  Production  Semences  \\\n",
       "0                          0.0        53.0     0.0        53.0       0.0   \n",
       "1                         40.0        39.0     2.0         3.0       0.0   \n",
       "2                          2.0         2.0     0.0         0.0       0.0   \n",
       "3                          0.0         0.0     0.0         0.0       0.0   \n",
       "4                         82.0        82.0     0.0         0.0       0.0   \n",
       "...                        ...         ...     ...         ...       ...   \n",
       "15600                      0.0         3.0     0.0         2.0       0.0   \n",
       "15601                      2.0         2.0     0.0         0.0       0.0   \n",
       "15602                      0.0         0.0     0.0         0.0       0.0   \n",
       "15603                      0.0         0.0     0.0         0.0       0.0   \n",
       "15604                      0.0         0.0     0.0         0.0       0.0   \n",
       "\n",
       "       Traitement  Variation de stock  \n",
       "0             0.0                 0.0  \n",
       "1             0.0                 0.0  \n",
       "2             0.0                 0.0  \n",
       "3             0.0                 0.0  \n",
       "4             0.0                 0.0  \n",
       "...           ...                 ...  \n",
       "15600         0.0                 0.0  \n",
       "15601         0.0                 0.0  \n",
       "15602         0.0                 0.0  \n",
       "15603         0.0                 0.0  \n",
       "15604         0.0                 0.0  \n",
       "\n",
       "[15605 rows x 18 columns]>"
      ]
     },
     "execution_count": 643,
     "metadata": {},
     "output_type": "execute_result"
    }
   ],
   "source": [
    "dispoAlimentaire.info"
   ]
  },
  {
   "cell_type": "code",
   "execution_count": 644,
   "id": "61db018e",
   "metadata": {},
   "outputs": [],
   "source": [
    "# Multiplication des colonnes par 1000000\n",
    "colonne_tonne = ['Aliments pour animaux', 'Autres Utilisations', 'Disponibilité intérieure', 'Exportations - Quantité', 'Importations - Quantité', 'Nourriture', 'Pertes', 'Production', 'Semences', 'Traitement', 'Variation de stock']\n",
    "for i in colonne_tonne:\n",
    "    dispoAlimentaire[i]*= 1000000"
   ]
  },
  {
   "cell_type": "code",
   "execution_count": 645,
   "id": "5255a85a",
   "metadata": {},
   "outputs": [
    {
     "data": {
      "text/html": [
       "<div>\n",
       "<style scoped>\n",
       "    .dataframe tbody tr th:only-of-type {\n",
       "        vertical-align: middle;\n",
       "    }\n",
       "\n",
       "    .dataframe tbody tr th {\n",
       "        vertical-align: top;\n",
       "    }\n",
       "\n",
       "    .dataframe thead th {\n",
       "        text-align: right;\n",
       "    }\n",
       "</style>\n",
       "<table border=\"1\" class=\"dataframe\">\n",
       "  <thead>\n",
       "    <tr style=\"text-align: right;\">\n",
       "      <th></th>\n",
       "      <th>Zone</th>\n",
       "      <th>Produit</th>\n",
       "      <th>Origine</th>\n",
       "      <th>Aliments pour animaux</th>\n",
       "      <th>Autres Utilisations</th>\n",
       "      <th>Disponibilité alimentaire (Kcal/personne/jour)</th>\n",
       "      <th>Disponibilité alimentaire en quantité (kg/personne/an)</th>\n",
       "      <th>Disponibilité de matière grasse en quantité (g/personne/jour)</th>\n",
       "      <th>Disponibilité de protéines en quantité (g/personne/jour)</th>\n",
       "      <th>Disponibilité intérieure</th>\n",
       "      <th>Exportations - Quantité</th>\n",
       "      <th>Importations - Quantité</th>\n",
       "      <th>Nourriture</th>\n",
       "      <th>Pertes</th>\n",
       "      <th>Production</th>\n",
       "      <th>Semences</th>\n",
       "      <th>Traitement</th>\n",
       "      <th>Variation de stock</th>\n",
       "    </tr>\n",
       "  </thead>\n",
       "  <tbody>\n",
       "    <tr>\n",
       "      <th>0</th>\n",
       "      <td>Afghanistan</td>\n",
       "      <td>Abats Comestible</td>\n",
       "      <td>animale</td>\n",
       "      <td>0.0</td>\n",
       "      <td>0.0</td>\n",
       "      <td>5.0</td>\n",
       "      <td>1.72</td>\n",
       "      <td>0.20</td>\n",
       "      <td>0.77</td>\n",
       "      <td>53000000.0</td>\n",
       "      <td>0.0</td>\n",
       "      <td>0.0</td>\n",
       "      <td>53000000.0</td>\n",
       "      <td>0.0</td>\n",
       "      <td>53000000.0</td>\n",
       "      <td>0.0</td>\n",
       "      <td>0.0</td>\n",
       "      <td>0.0</td>\n",
       "    </tr>\n",
       "    <tr>\n",
       "      <th>1</th>\n",
       "      <td>Afghanistan</td>\n",
       "      <td>Agrumes, Autres</td>\n",
       "      <td>vegetale</td>\n",
       "      <td>0.0</td>\n",
       "      <td>0.0</td>\n",
       "      <td>1.0</td>\n",
       "      <td>1.29</td>\n",
       "      <td>0.01</td>\n",
       "      <td>0.02</td>\n",
       "      <td>41000000.0</td>\n",
       "      <td>2000000.0</td>\n",
       "      <td>40000000.0</td>\n",
       "      <td>39000000.0</td>\n",
       "      <td>2000000.0</td>\n",
       "      <td>3000000.0</td>\n",
       "      <td>0.0</td>\n",
       "      <td>0.0</td>\n",
       "      <td>0.0</td>\n",
       "    </tr>\n",
       "    <tr>\n",
       "      <th>2</th>\n",
       "      <td>Afghanistan</td>\n",
       "      <td>Aliments pour enfants</td>\n",
       "      <td>vegetale</td>\n",
       "      <td>0.0</td>\n",
       "      <td>0.0</td>\n",
       "      <td>1.0</td>\n",
       "      <td>0.06</td>\n",
       "      <td>0.01</td>\n",
       "      <td>0.03</td>\n",
       "      <td>2000000.0</td>\n",
       "      <td>0.0</td>\n",
       "      <td>2000000.0</td>\n",
       "      <td>2000000.0</td>\n",
       "      <td>0.0</td>\n",
       "      <td>0.0</td>\n",
       "      <td>0.0</td>\n",
       "      <td>0.0</td>\n",
       "      <td>0.0</td>\n",
       "    </tr>\n",
       "    <tr>\n",
       "      <th>3</th>\n",
       "      <td>Afghanistan</td>\n",
       "      <td>Ananas</td>\n",
       "      <td>vegetale</td>\n",
       "      <td>0.0</td>\n",
       "      <td>0.0</td>\n",
       "      <td>0.0</td>\n",
       "      <td>0.00</td>\n",
       "      <td>0.00</td>\n",
       "      <td>0.00</td>\n",
       "      <td>0.0</td>\n",
       "      <td>0.0</td>\n",
       "      <td>0.0</td>\n",
       "      <td>0.0</td>\n",
       "      <td>0.0</td>\n",
       "      <td>0.0</td>\n",
       "      <td>0.0</td>\n",
       "      <td>0.0</td>\n",
       "      <td>0.0</td>\n",
       "    </tr>\n",
       "    <tr>\n",
       "      <th>4</th>\n",
       "      <td>Afghanistan</td>\n",
       "      <td>Bananes</td>\n",
       "      <td>vegetale</td>\n",
       "      <td>0.0</td>\n",
       "      <td>0.0</td>\n",
       "      <td>4.0</td>\n",
       "      <td>2.70</td>\n",
       "      <td>0.02</td>\n",
       "      <td>0.05</td>\n",
       "      <td>82000000.0</td>\n",
       "      <td>0.0</td>\n",
       "      <td>82000000.0</td>\n",
       "      <td>82000000.0</td>\n",
       "      <td>0.0</td>\n",
       "      <td>0.0</td>\n",
       "      <td>0.0</td>\n",
       "      <td>0.0</td>\n",
       "      <td>0.0</td>\n",
       "    </tr>\n",
       "  </tbody>\n",
       "</table>\n",
       "</div>"
      ],
      "text/plain": [
       "          Zone                Produit   Origine  Aliments pour animaux  \\\n",
       "0  Afghanistan       Abats Comestible   animale                    0.0   \n",
       "1  Afghanistan        Agrumes, Autres  vegetale                    0.0   \n",
       "2  Afghanistan  Aliments pour enfants  vegetale                    0.0   \n",
       "3  Afghanistan                 Ananas  vegetale                    0.0   \n",
       "4  Afghanistan                Bananes  vegetale                    0.0   \n",
       "\n",
       "   Autres Utilisations  Disponibilité alimentaire (Kcal/personne/jour)  \\\n",
       "0                  0.0                                             5.0   \n",
       "1                  0.0                                             1.0   \n",
       "2                  0.0                                             1.0   \n",
       "3                  0.0                                             0.0   \n",
       "4                  0.0                                             4.0   \n",
       "\n",
       "   Disponibilité alimentaire en quantité (kg/personne/an)  \\\n",
       "0                                               1.72        \n",
       "1                                               1.29        \n",
       "2                                               0.06        \n",
       "3                                               0.00        \n",
       "4                                               2.70        \n",
       "\n",
       "   Disponibilité de matière grasse en quantité (g/personne/jour)  \\\n",
       "0                                               0.20               \n",
       "1                                               0.01               \n",
       "2                                               0.01               \n",
       "3                                               0.00               \n",
       "4                                               0.02               \n",
       "\n",
       "   Disponibilité de protéines en quantité (g/personne/jour)  \\\n",
       "0                                               0.77          \n",
       "1                                               0.02          \n",
       "2                                               0.03          \n",
       "3                                               0.00          \n",
       "4                                               0.05          \n",
       "\n",
       "   Disponibilité intérieure  Exportations - Quantité  Importations - Quantité  \\\n",
       "0                53000000.0                      0.0                      0.0   \n",
       "1                41000000.0                2000000.0               40000000.0   \n",
       "2                 2000000.0                      0.0                2000000.0   \n",
       "3                       0.0                      0.0                      0.0   \n",
       "4                82000000.0                      0.0               82000000.0   \n",
       "\n",
       "   Nourriture     Pertes  Production  Semences  Traitement  Variation de stock  \n",
       "0  53000000.0        0.0  53000000.0       0.0         0.0                 0.0  \n",
       "1  39000000.0  2000000.0   3000000.0       0.0         0.0                 0.0  \n",
       "2   2000000.0        0.0         0.0       0.0         0.0                 0.0  \n",
       "3         0.0        0.0         0.0       0.0         0.0                 0.0  \n",
       "4  82000000.0        0.0         0.0       0.0         0.0                 0.0  "
      ]
     },
     "execution_count": 645,
     "metadata": {},
     "output_type": "execute_result"
    }
   ],
   "source": [
    "#Affichage les 5 premières lignes de la table\n",
    "dispoAlimentaire.head()"
   ]
  },
  {
   "cell_type": "markdown",
   "id": "97572b43",
   "metadata": {},
   "source": [
    "<h3 style=\"border-left: 5px solid #0074CC; font-weight: bold; color: #0060A8; padding-left: 10px;\">2.3 - Analyse exploratoire du fichier aide alimentaire</h3>\n",
    "<hr style=\"border: 1px solid #0074CC;\">"
   ]
  },
  {
   "cell_type": "code",
   "execution_count": 646,
   "id": "ff2dcc83",
   "metadata": {},
   "outputs": [
    {
     "name": "stdout",
     "output_type": "stream",
     "text": [
      "Le tableau comporte 1475 observation(s) ou article(s)\n",
      "Le tableau comporte 4 colonne(s)\n"
     ]
    }
   ],
   "source": [
    "#Afficher les dimensions du dataset\n",
    "print(\"Le tableau comporte {} observation(s) ou article(s)\".format(aideAlimentaire.shape[0]))\n",
    "print(\"Le tableau comporte {} colonne(s)\".format(aideAlimentaire.shape[1]))"
   ]
  },
  {
   "cell_type": "code",
   "execution_count": 647,
   "id": "6b5a3efb",
   "metadata": {},
   "outputs": [
    {
     "data": {
      "text/plain": [
       "<bound method DataFrame.info of      Pays bénéficiaire  Année                   Produit  Valeur\n",
       "0          Afghanistan   2013       Autres non-céréales     682\n",
       "1          Afghanistan   2014       Autres non-céréales     335\n",
       "2          Afghanistan   2013              Blé et Farin   39224\n",
       "3          Afghanistan   2014              Blé et Farin   15160\n",
       "4          Afghanistan   2013                  Céréales   40504\n",
       "...                ...    ...                       ...     ...\n",
       "1470          Zimbabwe   2015  Mélanges et préparations      96\n",
       "1471          Zimbabwe   2013              Non-céréales    5022\n",
       "1472          Zimbabwe   2014              Non-céréales    2310\n",
       "1473          Zimbabwe   2015              Non-céréales     306\n",
       "1474          Zimbabwe   2013                Riz, total      64\n",
       "\n",
       "[1475 rows x 4 columns]>"
      ]
     },
     "execution_count": 647,
     "metadata": {},
     "output_type": "execute_result"
    }
   ],
   "source": [
    "#Consulter le nombre de colonnes\n",
    "aideAlimentaire.info"
   ]
  },
  {
   "cell_type": "code",
   "execution_count": 648,
   "id": "3b3608fa",
   "metadata": {},
   "outputs": [
    {
     "data": {
      "text/html": [
       "<div>\n",
       "<style scoped>\n",
       "    .dataframe tbody tr th:only-of-type {\n",
       "        vertical-align: middle;\n",
       "    }\n",
       "\n",
       "    .dataframe tbody tr th {\n",
       "        vertical-align: top;\n",
       "    }\n",
       "\n",
       "    .dataframe thead th {\n",
       "        text-align: right;\n",
       "    }\n",
       "</style>\n",
       "<table border=\"1\" class=\"dataframe\">\n",
       "  <thead>\n",
       "    <tr style=\"text-align: right;\">\n",
       "      <th></th>\n",
       "      <th>Pays bénéficiaire</th>\n",
       "      <th>Année</th>\n",
       "      <th>Produit</th>\n",
       "      <th>Valeur</th>\n",
       "    </tr>\n",
       "  </thead>\n",
       "  <tbody>\n",
       "    <tr>\n",
       "      <th>0</th>\n",
       "      <td>Afghanistan</td>\n",
       "      <td>2013</td>\n",
       "      <td>Autres non-céréales</td>\n",
       "      <td>682</td>\n",
       "    </tr>\n",
       "    <tr>\n",
       "      <th>1</th>\n",
       "      <td>Afghanistan</td>\n",
       "      <td>2014</td>\n",
       "      <td>Autres non-céréales</td>\n",
       "      <td>335</td>\n",
       "    </tr>\n",
       "    <tr>\n",
       "      <th>2</th>\n",
       "      <td>Afghanistan</td>\n",
       "      <td>2013</td>\n",
       "      <td>Blé et Farin</td>\n",
       "      <td>39224</td>\n",
       "    </tr>\n",
       "    <tr>\n",
       "      <th>3</th>\n",
       "      <td>Afghanistan</td>\n",
       "      <td>2014</td>\n",
       "      <td>Blé et Farin</td>\n",
       "      <td>15160</td>\n",
       "    </tr>\n",
       "    <tr>\n",
       "      <th>4</th>\n",
       "      <td>Afghanistan</td>\n",
       "      <td>2013</td>\n",
       "      <td>Céréales</td>\n",
       "      <td>40504</td>\n",
       "    </tr>\n",
       "  </tbody>\n",
       "</table>\n",
       "</div>"
      ],
      "text/plain": [
       "  Pays bénéficiaire  Année              Produit  Valeur\n",
       "0       Afghanistan   2013  Autres non-céréales     682\n",
       "1       Afghanistan   2014  Autres non-céréales     335\n",
       "2       Afghanistan   2013         Blé et Farin   39224\n",
       "3       Afghanistan   2014         Blé et Farin   15160\n",
       "4       Afghanistan   2013             Céréales   40504"
      ]
     },
     "execution_count": 648,
     "metadata": {},
     "output_type": "execute_result"
    }
   ],
   "source": [
    "#Affichage les 5 premières lignes de la table\n",
    "aideAlimentaire.head()"
   ]
  },
  {
   "cell_type": "code",
   "execution_count": 649,
   "id": "ef121073",
   "metadata": {},
   "outputs": [],
   "source": [
    "#changement du nom de la colonne Pays bénéficiaire par Zone\n",
    "aideAlimentaire.rename(columns={'Pays bénéficiaire':'Zone'}, inplace=True)"
   ]
  },
  {
   "cell_type": "code",
   "execution_count": 650,
   "id": "7e5a7511",
   "metadata": {},
   "outputs": [],
   "source": [
    "#changement du nom de la colonne Valeur bénéficiaire par Aide_alimentaire\n",
    "aideAlimentaire.rename(columns={'Valeur':'Aide_alimentaire'}, inplace=True)\n",
    "#Multiplication de la colonne Aide_alimentaire qui contient des tonnes par 1000 pour avoir des kg\n",
    "aideAlimentaire['Aide_alimentaire'] *=1000"
   ]
  },
  {
   "cell_type": "code",
   "execution_count": 651,
   "id": "41fd55fc",
   "metadata": {},
   "outputs": [
    {
     "data": {
      "text/html": [
       "<div>\n",
       "<style scoped>\n",
       "    .dataframe tbody tr th:only-of-type {\n",
       "        vertical-align: middle;\n",
       "    }\n",
       "\n",
       "    .dataframe tbody tr th {\n",
       "        vertical-align: top;\n",
       "    }\n",
       "\n",
       "    .dataframe thead th {\n",
       "        text-align: right;\n",
       "    }\n",
       "</style>\n",
       "<table border=\"1\" class=\"dataframe\">\n",
       "  <thead>\n",
       "    <tr style=\"text-align: right;\">\n",
       "      <th></th>\n",
       "      <th>Zone</th>\n",
       "      <th>Année</th>\n",
       "      <th>Produit</th>\n",
       "      <th>Aide_alimentaire</th>\n",
       "    </tr>\n",
       "  </thead>\n",
       "  <tbody>\n",
       "    <tr>\n",
       "      <th>0</th>\n",
       "      <td>Afghanistan</td>\n",
       "      <td>2013</td>\n",
       "      <td>Autres non-céréales</td>\n",
       "      <td>682000</td>\n",
       "    </tr>\n",
       "    <tr>\n",
       "      <th>1</th>\n",
       "      <td>Afghanistan</td>\n",
       "      <td>2014</td>\n",
       "      <td>Autres non-céréales</td>\n",
       "      <td>335000</td>\n",
       "    </tr>\n",
       "    <tr>\n",
       "      <th>2</th>\n",
       "      <td>Afghanistan</td>\n",
       "      <td>2013</td>\n",
       "      <td>Blé et Farin</td>\n",
       "      <td>39224000</td>\n",
       "    </tr>\n",
       "    <tr>\n",
       "      <th>3</th>\n",
       "      <td>Afghanistan</td>\n",
       "      <td>2014</td>\n",
       "      <td>Blé et Farin</td>\n",
       "      <td>15160000</td>\n",
       "    </tr>\n",
       "    <tr>\n",
       "      <th>4</th>\n",
       "      <td>Afghanistan</td>\n",
       "      <td>2013</td>\n",
       "      <td>Céréales</td>\n",
       "      <td>40504000</td>\n",
       "    </tr>\n",
       "  </tbody>\n",
       "</table>\n",
       "</div>"
      ],
      "text/plain": [
       "          Zone  Année              Produit  Aide_alimentaire\n",
       "0  Afghanistan   2013  Autres non-céréales            682000\n",
       "1  Afghanistan   2014  Autres non-céréales            335000\n",
       "2  Afghanistan   2013         Blé et Farin          39224000\n",
       "3  Afghanistan   2014         Blé et Farin          15160000\n",
       "4  Afghanistan   2013             Céréales          40504000"
      ]
     },
     "execution_count": 651,
     "metadata": {},
     "output_type": "execute_result"
    }
   ],
   "source": [
    "#Affichage les 5 premières lignes de la table\n",
    "aideAlimentaire.head()"
   ]
  },
  {
   "cell_type": "markdown",
   "id": "5e61bb68",
   "metadata": {},
   "source": [
    "<h3 style=\"border-left: 5px solid #0074CC; font-weight: bold; color: #0060A8; padding-left: 10px;\">2.4 - Analyse exploratoire du fichier sous nutrition</h3>\n",
    "<hr style=\"border: 1px solid #0074CC;\">"
   ]
  },
  {
   "cell_type": "code",
   "execution_count": 652,
   "id": "b825869d",
   "metadata": {},
   "outputs": [
    {
     "name": "stdout",
     "output_type": "stream",
     "text": [
      "Le tableau comporte 1218 observation(s) ou article(s)\n",
      "Le tableau comporte 3 colonne(s)\n"
     ]
    }
   ],
   "source": [
    "#Afficher les dimensions du dataset\n",
    "print(\"Le tableau comporte {} observation(s) ou article(s)\".format(sousNutrition.shape[0]))\n",
    "print(\"Le tableau comporte {} colonne(s)\".format(sousNutrition.shape[1]))"
   ]
  },
  {
   "cell_type": "code",
   "execution_count": 653,
   "id": "16df283e",
   "metadata": {},
   "outputs": [
    {
     "name": "stdout",
     "output_type": "stream",
     "text": [
      "<class 'pandas.core.frame.DataFrame'>\n",
      "RangeIndex: 1218 entries, 0 to 1217\n",
      "Data columns (total 3 columns):\n",
      " #   Column  Non-Null Count  Dtype \n",
      "---  ------  --------------  ----- \n",
      " 0   Zone    1218 non-null   object\n",
      " 1   Année   1218 non-null   object\n",
      " 2   Valeur  624 non-null    object\n",
      "dtypes: object(3)\n",
      "memory usage: 28.7+ KB\n"
     ]
    }
   ],
   "source": [
    "#Consulter le nombre de colonnes\n",
    "sousNutrition.info()"
   ]
  },
  {
   "cell_type": "code",
   "execution_count": 654,
   "id": "2e07d9e3",
   "metadata": {},
   "outputs": [
    {
     "data": {
      "text/html": [
       "<div>\n",
       "<style scoped>\n",
       "    .dataframe tbody tr th:only-of-type {\n",
       "        vertical-align: middle;\n",
       "    }\n",
       "\n",
       "    .dataframe tbody tr th {\n",
       "        vertical-align: top;\n",
       "    }\n",
       "\n",
       "    .dataframe thead th {\n",
       "        text-align: right;\n",
       "    }\n",
       "</style>\n",
       "<table border=\"1\" class=\"dataframe\">\n",
       "  <thead>\n",
       "    <tr style=\"text-align: right;\">\n",
       "      <th></th>\n",
       "      <th>Zone</th>\n",
       "      <th>Année</th>\n",
       "      <th>Valeur</th>\n",
       "    </tr>\n",
       "  </thead>\n",
       "  <tbody>\n",
       "    <tr>\n",
       "      <th>0</th>\n",
       "      <td>Afghanistan</td>\n",
       "      <td>2012-2014</td>\n",
       "      <td>8.6</td>\n",
       "    </tr>\n",
       "    <tr>\n",
       "      <th>1</th>\n",
       "      <td>Afghanistan</td>\n",
       "      <td>2013-2015</td>\n",
       "      <td>8.8</td>\n",
       "    </tr>\n",
       "    <tr>\n",
       "      <th>2</th>\n",
       "      <td>Afghanistan</td>\n",
       "      <td>2014-2016</td>\n",
       "      <td>8.9</td>\n",
       "    </tr>\n",
       "    <tr>\n",
       "      <th>3</th>\n",
       "      <td>Afghanistan</td>\n",
       "      <td>2015-2017</td>\n",
       "      <td>9.7</td>\n",
       "    </tr>\n",
       "    <tr>\n",
       "      <th>4</th>\n",
       "      <td>Afghanistan</td>\n",
       "      <td>2016-2018</td>\n",
       "      <td>10.5</td>\n",
       "    </tr>\n",
       "  </tbody>\n",
       "</table>\n",
       "</div>"
      ],
      "text/plain": [
       "          Zone      Année Valeur\n",
       "0  Afghanistan  2012-2014    8.6\n",
       "1  Afghanistan  2013-2015    8.8\n",
       "2  Afghanistan  2014-2016    8.9\n",
       "3  Afghanistan  2015-2017    9.7\n",
       "4  Afghanistan  2016-2018   10.5"
      ]
     },
     "execution_count": 654,
     "metadata": {},
     "output_type": "execute_result"
    }
   ],
   "source": [
    "#Afficher les 5 premières lignes de la table\n",
    "sousNutrition.head()"
   ]
  },
  {
   "cell_type": "code",
   "execution_count": 655,
   "id": "4030178c",
   "metadata": {},
   "outputs": [],
   "source": [
    "#Conversion de la colonne\n",
    "sousNutrition['Valeur'] = pd.to_numeric(sousNutrition['Valeur'], errors='coerce')\n",
    "#Puis remplacement des NaN en 0\n",
    "sousNutrition = sousNutrition.fillna(0)"
   ]
  },
  {
   "cell_type": "code",
   "execution_count": 656,
   "id": "c07072c5",
   "metadata": {},
   "outputs": [],
   "source": [
    "#changement du nom de la colonne Valeur par sous_nutrition\n",
    "sousNutrition.rename(columns={'Valeur':'sous_nutrition'}, inplace=True)"
   ]
  },
  {
   "cell_type": "code",
   "execution_count": 657,
   "id": "6da41c2f",
   "metadata": {},
   "outputs": [],
   "source": [
    "#Multiplication de la colonne sous_nutrition par 1000000\n",
    "sousNutrition['sous_nutrition'] *=1000000"
   ]
  },
  {
   "cell_type": "code",
   "execution_count": 658,
   "id": "12edd045",
   "metadata": {},
   "outputs": [
    {
     "data": {
      "text/html": [
       "<div>\n",
       "<style scoped>\n",
       "    .dataframe tbody tr th:only-of-type {\n",
       "        vertical-align: middle;\n",
       "    }\n",
       "\n",
       "    .dataframe tbody tr th {\n",
       "        vertical-align: top;\n",
       "    }\n",
       "\n",
       "    .dataframe thead th {\n",
       "        text-align: right;\n",
       "    }\n",
       "</style>\n",
       "<table border=\"1\" class=\"dataframe\">\n",
       "  <thead>\n",
       "    <tr style=\"text-align: right;\">\n",
       "      <th></th>\n",
       "      <th>Zone</th>\n",
       "      <th>Année</th>\n",
       "      <th>sous_nutrition</th>\n",
       "    </tr>\n",
       "  </thead>\n",
       "  <tbody>\n",
       "    <tr>\n",
       "      <th>0</th>\n",
       "      <td>Afghanistan</td>\n",
       "      <td>2012-2014</td>\n",
       "      <td>8600000.0</td>\n",
       "    </tr>\n",
       "    <tr>\n",
       "      <th>1</th>\n",
       "      <td>Afghanistan</td>\n",
       "      <td>2013-2015</td>\n",
       "      <td>8800000.0</td>\n",
       "    </tr>\n",
       "    <tr>\n",
       "      <th>2</th>\n",
       "      <td>Afghanistan</td>\n",
       "      <td>2014-2016</td>\n",
       "      <td>8900000.0</td>\n",
       "    </tr>\n",
       "    <tr>\n",
       "      <th>3</th>\n",
       "      <td>Afghanistan</td>\n",
       "      <td>2015-2017</td>\n",
       "      <td>9700000.0</td>\n",
       "    </tr>\n",
       "    <tr>\n",
       "      <th>4</th>\n",
       "      <td>Afghanistan</td>\n",
       "      <td>2016-2018</td>\n",
       "      <td>10500000.0</td>\n",
       "    </tr>\n",
       "  </tbody>\n",
       "</table>\n",
       "</div>"
      ],
      "text/plain": [
       "          Zone      Année  sous_nutrition\n",
       "0  Afghanistan  2012-2014       8600000.0\n",
       "1  Afghanistan  2013-2015       8800000.0\n",
       "2  Afghanistan  2014-2016       8900000.0\n",
       "3  Afghanistan  2015-2017       9700000.0\n",
       "4  Afghanistan  2016-2018      10500000.0"
      ]
     },
     "execution_count": 658,
     "metadata": {},
     "output_type": "execute_result"
    }
   ],
   "source": [
    "#Afficher les 5 premières lignes de la table\n",
    "sousNutrition.head()"
   ]
  },
  {
   "cell_type": "markdown",
   "id": "f41cac91",
   "metadata": {},
   "source": [
    "<div style=\"border: 2px solid #001F3F; background-color: #FFFFFF; padding: 10px; text-align: center;\">\n",
    "    <h2 style=\"font-weight: bold; color: #001F3F;\">Etape 2 - Analyse</h2>\n",
    "</div>"
   ]
  },
  {
   "cell_type": "markdown",
   "id": "3378c537",
   "metadata": {},
   "source": [
    "<h3 style=\"border-left: 5px solid #0074CC; font-weight: bold; color: #0060A8; padding-left: 10px;\">3.1 - Proportion de personnes en sous nutrition</h3>\n",
    "<hr style=\"border: 1px solid #0074CC;\">"
   ]
  },
  {
   "cell_type": "code",
   "execution_count": 659,
   "id": "99bc7c64",
   "metadata": {},
   "outputs": [
    {
     "name": "stdout",
     "output_type": "stream",
     "text": [
      "                                       Zone  Population  sous_nutrition\n",
      "0                               Afghanistan  36296113.0      10500000.0\n",
      "1                            Afrique du Sud  57009756.0       3100000.0\n",
      "2                                   Albanie   2884169.0        100000.0\n",
      "3                                   Algérie  41389189.0       1300000.0\n",
      "4                                 Allemagne  82658409.0             0.0\n",
      "..                                      ...         ...             ...\n",
      "198  Venezuela (République bolivarienne du)  29402484.0       8000000.0\n",
      "199                                Viet Nam  94600648.0       6500000.0\n",
      "200                                   Yémen  27834819.0             0.0\n",
      "201                                  Zambie  16853599.0             0.0\n",
      "202                                Zimbabwe  14236595.0             0.0\n",
      "\n",
      "[203 rows x 3 columns]\n"
     ]
    }
   ],
   "source": [
    "#jointure & filtrage\n",
    "nombre_sous_nutrition = pd.merge(population.loc[population['Année'] == 2017,[\"Zone\", \"Population\"]],\n",
    "                               sousNutrition.loc[sousNutrition['Année'] == '2016-2018',[\"Zone\", \"sous_nutrition\"]],\n",
    "                               on='Zone')\n",
    "print(nombre_sous_nutrition)"
   ]
  },
  {
   "cell_type": "code",
   "execution_count": 660,
   "id": "e6cc6d60",
   "metadata": {},
   "outputs": [
    {
     "name": "stdout",
     "output_type": "stream",
     "text": [
      "Nombre total de personnes en sous-nutrition : 535700000 millions\n",
      "Proportion de personnes en sous-nutrition par rapport à la population totale : 7.10%\n"
     ]
    }
   ],
   "source": [
    "# Calculer la proportion de personnes en sous-nutrition par rapport à la population totale\n",
    "proportion_sous_nutrition = (nombre_sous_nutrition['sous_nutrition'].sum()) / (nombre_sous_nutrition['Population'].sum()) * 100\n",
    "total_sous_nutrition = nombre_sous_nutrition['sous_nutrition'].sum()\n",
    "\n",
    "print(\"Nombre total de personnes en sous-nutrition : {:.0f} millions\".format(total_sous_nutrition))\n",
    "print(\"Proportion de personnes en sous-nutrition par rapport à la population totale : {:.2f}%\".format(proportion_sous_nutrition))"
   ]
  },
  {
   "cell_type": "markdown",
   "id": "6b96f043",
   "metadata": {},
   "source": [
    "<h3 style=\"border-left: 5px solid #0074CC; font-weight: bold; color: #0060A8; padding-left: 10px;\">3.2 - Nombre théorique de personne qui pourrait être nourries</h3>\n",
    "<hr style=\"border: 1px solid #0074CC;\">"
   ]
  },
  {
   "cell_type": "code",
   "execution_count": 661,
   "id": "5d01d3c7",
   "metadata": {},
   "outputs": [],
   "source": [
    "#moyenne calorique que doit consommer un être humain par jour\n",
    "moyenneKcal = 2250"
   ]
  },
  {
   "cell_type": "code",
   "execution_count": 662,
   "id": "c04a942d",
   "metadata": {},
   "outputs": [],
   "source": [
    "#Jointure de la table population filtré par l'année 2017 et agregation de dispoAlimentaire\n",
    "dispo_alimentaire2017 = pd.merge(\n",
    "    population.loc[population['Année'] == 2017, [\"Zone\", \"Population\"]],\n",
    "    dispoAlimentaire.groupby('Zone')['Disponibilité alimentaire (Kcal/personne/jour)'].sum().reset_index(),\n",
    "    on='Zone'\n",
    ")"
   ]
  },
  {
   "cell_type": "code",
   "execution_count": 663,
   "id": "749e3735",
   "metadata": {},
   "outputs": [],
   "source": [
    "#Création de la colonne dispo_kcal avec calcul des kcal disponibles mondialement\n",
    "dispo_alimentaire2017['dispo_kcal'] = dispo_alimentaire2017['Disponibilité alimentaire (Kcal/personne/jour)'] * dispo_alimentaire2017['Population']*365"
   ]
  },
  {
   "cell_type": "code",
   "execution_count": 664,
   "id": "541392f7",
   "metadata": {},
   "outputs": [
    {
     "name": "stdout",
     "output_type": "stream",
     "text": [
      "Le total de disponibilité alimentaire disponible au total est de 7635429388975815.00 Kcal.\n",
      "Cela pourrait nourrir environ 9297326501 êtres humains.\n",
      "La proportion d'êtres humains pouvant être nourris avec la disponibilité alimentaire totale est d'environ 123.17 % de la population mondiale.\n"
     ]
    }
   ],
   "source": [
    "#Calcul du nombre d'humains pouvant être nourris\n",
    "total_humain = round(dispo_alimentaire2017['dispo_kcal'].sum() / (365* moyenneKcal))\n",
    "# Proportion d'êtres humains pouvant être nourris avec la disponibilité alimentaire totale\n",
    "proportion_nourris = total_humain *100 / (population.loc[population['Année'] == 2017,'Population'].sum()) \n",
    "\n",
    "print(\"Le total de disponibilité alimentaire disponible au total est de {:.2f} Kcal.\".format(dispo_alimentaire2017['dispo_kcal'].sum()))\n",
    "print(\"Cela pourrait nourrir environ\", round(total_humain), \"êtres humains.\")\n",
    "print(\"La proportion d'êtres humains pouvant être nourris avec la disponibilité alimentaire totale est d'environ\", round(proportion_nourris, 2), \"% de la population mondiale.\")"
   ]
  },
  {
   "cell_type": "markdown",
   "id": "cde9be31",
   "metadata": {},
   "source": [
    "<h3 style=\"border-left: 5px solid #0074CC; font-weight: bold; color: #0060A8; padding-left: 10px;\">3.3 - Nombre théorique de personne qui pourrait être nourrie avec les produits végétaux</h3>\n",
    "<hr style=\"border: 1px solid #0074CC;\">"
   ]
  },
  {
   "cell_type": "code",
   "execution_count": 665,
   "id": "9410ec9d",
   "metadata": {},
   "outputs": [
    {
     "name": "stdout",
     "output_type": "stream",
     "text": [
      "                                       Zone  Population  \\\n",
      "0                               Afghanistan  36296113.0   \n",
      "1                            Afrique du Sud  57009756.0   \n",
      "2                                   Albanie   2884169.0   \n",
      "3                                   Algérie  41389189.0   \n",
      "4                                 Allemagne  82658409.0   \n",
      "..                                      ...         ...   \n",
      "167  Venezuela (République bolivarienne du)  29402484.0   \n",
      "168                                Viet Nam  94600648.0   \n",
      "169                                   Yémen  27834819.0   \n",
      "170                                  Zambie  16853599.0   \n",
      "171                                Zimbabwe  14236595.0   \n",
      "\n",
      "     Disponibilité alimentaire (Kcal/personne/jour)    dispo_kcal  \n",
      "0                                            1871.0  2.478716e+13  \n",
      "1                                            2533.0  5.270808e+13  \n",
      "2                                            2203.0  2.319146e+12  \n",
      "3                                            2915.0  4.403706e+13  \n",
      "4                                            2461.0  7.424916e+13  \n",
      "..                                              ...           ...  \n",
      "167                                          2157.0  2.314872e+13  \n",
      "168                                          2169.0  7.489391e+13  \n",
      "169                                          2028.0  2.060389e+13  \n",
      "170                                          1818.0  1.118354e+13  \n",
      "171                                          1935.0  1.005495e+13  \n",
      "\n",
      "[172 rows x 4 columns]\n"
     ]
    }
   ],
   "source": [
    "#Transfert des données avec les végétaux dans un nouveau dataframe\n",
    "dispoAlimentaire_vegetaux = pd.merge(\n",
    "    population.loc[population['Année'] == 2017, [\"Zone\", \"Population\"]],\n",
    "    dispoAlimentaire[dispoAlimentaire['Origine'] == 'vegetale'].groupby('Zone')['Disponibilité alimentaire (Kcal/personne/jour)'].sum().reset_index(),\n",
    "    on='Zone'\n",
    ")\n",
    "#Ajout de la colonne dispo_kcal\n",
    "dispoAlimentaire_vegetaux['dispo_kcal'] = dispoAlimentaire_vegetaux['Disponibilité alimentaire (Kcal/personne/jour)'] * dispoAlimentaire_vegetaux['Population']*365\n",
    "print(dispoAlimentaire_vegetaux)"
   ]
  },
  {
   "cell_type": "code",
   "execution_count": 666,
   "id": "06185282",
   "metadata": {},
   "outputs": [
    {
     "name": "stdout",
     "output_type": "stream",
     "text": [
      "Le total de disponibilité alimentaire pour les végétaux disponible est de 6300178937197865.0 Kcal.\n"
     ]
    }
   ],
   "source": [
    "#Calcul du nombre de kcal disponible pour les végétaux\n",
    "total_kcal = dispoAlimentaire_vegetaux['dispo_kcal'].sum()\n",
    "print(\"Le total de disponibilité alimentaire pour les végétaux disponible est de\", total_kcal, \"Kcal.\")"
   ]
  },
  {
   "cell_type": "code",
   "execution_count": 667,
   "id": "6d070c59",
   "metadata": {},
   "outputs": [
    {
     "name": "stdout",
     "output_type": "stream",
     "text": [
      "Cela pourrait nourrir environ 7671450761 êtres humains.\n",
      "La proportion d'êtres humains pouvant être nourris avec la disponibilité alimentaire végétale est d'environ 101.63 % de la population mondiale.\n"
     ]
    }
   ],
   "source": [
    "#Calcul du nombre d'humains pouvant être nourris\n",
    "total_humain = round(dispoAlimentaire_vegetaux['dispo_kcal'].sum() / (365*moyenneKcal))\n",
    "# Proportion d'êtres humains pouvant être nourris avec la disponibilité alimentaire totale\n",
    "proportion_nourris = total_humain *100 / (population.loc[population['Année'] == 2017,'Population'].sum()) \n",
    "\n",
    "print(\"Cela pourrait nourrir environ\", round(total_humain), \"êtres humains.\")\n",
    "print(\"La proportion d'êtres humains pouvant être nourris avec la disponibilité alimentaire végétale est d'environ\", round(proportion_nourris, 2), \"% de la population mondiale.\")"
   ]
  },
  {
   "cell_type": "markdown",
   "id": "bb273d2e",
   "metadata": {},
   "source": [
    "<h3 style=\"border-left: 5px solid #0074CC; font-weight: bold; color: #0060A8; padding-left: 10px;\">3.4 - Utilisation de la disponibilité intérieure</h3>\n",
    "<hr style=\"border: 1px solid #0074CC;\">"
   ]
  },
  {
   "cell_type": "code",
   "execution_count": 668,
   "id": "12f02255",
   "metadata": {},
   "outputs": [
    {
     "name": "stdout",
     "output_type": "stream",
     "text": [
      "Le total de disponibilité alimentaire disponible au total est de 9848994000000.0 Kg\n"
     ]
    }
   ],
   "source": [
    "#Calcul de la disponibilité totale\n",
    "total_dispo_interieure = dispoAlimentaire['Disponibilité intérieure'].sum()\n",
    "print(\"Le total de disponibilité alimentaire disponible au total est de\", total_dispo_interieure, \"Kg\")"
   ]
  },
  {
   "cell_type": "code",
   "execution_count": 669,
   "id": "61580de5",
   "metadata": {},
   "outputs": [
    {
     "name": "stdout",
     "output_type": "stream",
     "text": [
      "Somme totale de la disponibilité intérieure pour ':Aliments pour animaux':13.24 kcal %\n",
      "Somme totale de la disponibilité intérieure pour ':Pertes':4.61 kcal %\n",
      "Somme totale de la disponibilité intérieure pour ':Nourriture':49.51 kcal %\n",
      "Somme totale de la disponibilité intérieure pour ':Semences':1.57 kcal %\n",
      "Somme totale de la disponibilité intérieure pour ':Traitement':22.38 kcal %\n",
      "Somme totale de la disponibilité intérieure pour ':Autres Utilisations':8.78 kcal %\n"
     ]
    }
   ],
   "source": [
    "# Boucle for pour parcourir les colonnes \n",
    "for colonne in ['Aliments pour animaux', 'Pertes', 'Nourriture', 'Semences', 'Traitement', 'Autres Utilisations']:\n",
    "    somme_dispo_interieure = round(dispoAlimentaire[colonne].sum()*100 / total_dispo_interieure,2)\n",
    "    print(f\"Somme totale de la disponibilité intérieure pour ':{colonne}':{somme_dispo_interieure} kcal\", \"%\")"
   ]
  },
  {
   "cell_type": "markdown",
   "id": "dad62b61",
   "metadata": {},
   "source": [
    "<h3 style=\"border-left: 5px solid #0074CC; font-weight: bold; color: #0060A8; padding-left: 10px;\">3.5 - Utilisation des céréales</h3>\n",
    "<hr style=\"border: 1px solid #0074CC;\">   "
   ]
  },
  {
   "cell_type": "code",
   "execution_count": 670,
   "id": "a4c2e7b2",
   "metadata": {},
   "outputs": [
    {
     "name": "stdout",
     "output_type": "stream",
     "text": [
      "               Zone           Produit   Origine  Aliments pour animaux  \\\n",
      "7       Afghanistan               Blé  vegetale                    0.0   \n",
      "12      Afghanistan  Céréales, Autres  vegetale                    0.0   \n",
      "32      Afghanistan              Maïs  vegetale            200000000.0   \n",
      "34      Afghanistan            Millet  vegetale                    0.0   \n",
      "40      Afghanistan              Orge  vegetale            360000000.0   \n",
      "...             ...               ...       ...                    ...   \n",
      "15545  Îles Salomon  Céréales, Autres  vegetale                    0.0   \n",
      "15568  Îles Salomon              Maïs  vegetale                    0.0   \n",
      "15575  Îles Salomon              Orge  vegetale                    0.0   \n",
      "15591  Îles Salomon  Riz (Eq Blanchi)  vegetale                    0.0   \n",
      "15593  Îles Salomon            Sorgho  vegetale                    0.0   \n",
      "\n",
      "       Autres Utilisations  Disponibilité alimentaire (Kcal/personne/jour)  \\\n",
      "7                      0.0                                          1369.0   \n",
      "12                     0.0                                             0.0   \n",
      "32                     0.0                                            21.0   \n",
      "34                     0.0                                             3.0   \n",
      "40                     0.0                                            26.0   \n",
      "...                    ...                                             ...   \n",
      "15545                  0.0                                             0.0   \n",
      "15568                  0.0                                             1.0   \n",
      "15575                  0.0                                             0.0   \n",
      "15591           12000000.0                                           623.0   \n",
      "15593                  0.0                                             0.0   \n",
      "\n",
      "       Disponibilité alimentaire en quantité (kg/personne/an)  \\\n",
      "7                                                 160.23        \n",
      "12                                                  0.00        \n",
      "32                                                  2.50        \n",
      "34                                                  0.40        \n",
      "40                                                  2.92        \n",
      "...                                                  ...        \n",
      "15545                                               0.00        \n",
      "15568                                               0.15        \n",
      "15575                                               0.07        \n",
      "15591                                              63.76        \n",
      "15593                                               0.00        \n",
      "\n",
      "       Disponibilité de matière grasse en quantité (g/personne/jour)  \\\n",
      "7                                                   4.69               \n",
      "12                                                  0.00               \n",
      "32                                                  0.30               \n",
      "34                                                  0.02               \n",
      "40                                                  0.24               \n",
      "...                                                  ...               \n",
      "15545                                               0.00               \n",
      "15568                                               0.01               \n",
      "15575                                               0.00               \n",
      "15591                                               1.36               \n",
      "15593                                               0.00               \n",
      "\n",
      "       Disponibilité de protéines en quantité (g/personne/jour)  \\\n",
      "7                                                  36.91          \n",
      "12                                                  0.00          \n",
      "32                                                  0.56          \n",
      "34                                                  0.08          \n",
      "40                                                  0.79          \n",
      "...                                                  ...          \n",
      "15545                                               0.00          \n",
      "15568                                               0.03          \n",
      "15575                                               0.01          \n",
      "15591                                              10.90          \n",
      "15593                                               0.00          \n",
      "\n",
      "       Disponibilité intérieure  Exportations - Quantité  \\\n",
      "7                  5.992000e+09                      0.0   \n",
      "12                 0.000000e+00                      0.0   \n",
      "32                 3.130000e+08                      0.0   \n",
      "34                 1.300000e+07                      0.0   \n",
      "40                 5.240000e+08                      0.0   \n",
      "...                         ...                      ...   \n",
      "15545              0.000000e+00                      0.0   \n",
      "15568              0.000000e+00                      0.0   \n",
      "15575              1.000000e+06                      0.0   \n",
      "15591              4.900000e+07                      0.0   \n",
      "15593              0.000000e+00                      0.0   \n",
      "\n",
      "       Importations - Quantité    Nourriture       Pertes    Production  \\\n",
      "7                 1.173000e+09  4.895000e+09  775000000.0  5.169000e+09   \n",
      "12                0.000000e+00  0.000000e+00          0.0  0.000000e+00   \n",
      "32                1.000000e+06  7.600000e+07   31000000.0  3.120000e+08   \n",
      "34                0.000000e+00  1.200000e+07    1000000.0  1.300000e+07   \n",
      "40                1.000000e+07  8.900000e+07   52000000.0  5.140000e+08   \n",
      "...                        ...           ...          ...           ...   \n",
      "15545             0.000000e+00  0.000000e+00          0.0  0.000000e+00   \n",
      "15568             0.000000e+00  0.000000e+00          0.0  0.000000e+00   \n",
      "15575             1.000000e+06  0.000000e+00          0.0  0.000000e+00   \n",
      "15591             4.700000e+07  3.600000e+07    1000000.0  3.000000e+06   \n",
      "15593             0.000000e+00  0.000000e+00          0.0  0.000000e+00   \n",
      "\n",
      "          Semences  Traitement  Variation de stock  \n",
      "7      322000000.0         0.0        -350000000.0  \n",
      "12             0.0         0.0                 0.0  \n",
      "32       5000000.0         0.0                 0.0  \n",
      "34             0.0         0.0                 0.0  \n",
      "40      22000000.0         0.0                 0.0  \n",
      "...            ...         ...                 ...  \n",
      "15545          0.0         0.0                 0.0  \n",
      "15568          0.0         0.0                 0.0  \n",
      "15575          0.0   1000000.0                 0.0  \n",
      "15591          0.0         0.0                 0.0  \n",
      "15593          0.0         0.0                 0.0  \n",
      "\n",
      "[1497 rows x 18 columns]\n"
     ]
    }
   ],
   "source": [
    "# Création d'une liste avec toutes les variables\n",
    "liste_cereale = [\"Blé\", \"Riz (Eq Blanchi)\", \"Orge\", \"Maïs\", \"Seigle\",\"Avoine\", \"Millet\", \"Sorgho\", \"Céréales, Autres\"]\n",
    "# Création d'un DataFrame avec les informations uniquement pour ces céréales\n",
    "cereale = dispoAlimentaire[dispoAlimentaire['Produit'].isin(liste_cereale)]\n",
    "print(cereale)"
   ]
  },
  {
   "cell_type": "code",
   "execution_count": 671,
   "id": "a239774e",
   "metadata": {},
   "outputs": [
    {
     "name": "stdout",
     "output_type": "stream",
     "text": [
      "Proportion d'alimentation animale : 36.29%\n",
      "Proportion d'alimentation humaine : 42.75%\n"
     ]
    }
   ],
   "source": [
    "#Affichage de la proportion d'alimentation animale\n",
    "proportion = cereale[\"Aliments pour animaux\"].sum() / cereale[\"Disponibilité intérieure\"].sum() * 100\n",
    "print(\"Proportion d'alimentation animale : {:.2f}%\".format(proportion))\n",
    "# Calcul de la proportion d'alimentation humaine\n",
    "proportion = cereale[\"Nourriture\"].sum() * 100 / cereale[\"Disponibilité intérieure\"].sum()\n",
    "print(\"Proportion d'alimentation humaine : {:.2f}%\".format(proportion))"
   ]
  },
  {
   "cell_type": "markdown",
   "id": "a2bb9aeb",
   "metadata": {},
   "source": [
    "<h3 style=\"border-left: 5px solid #0074CC; font-weight: bold; color: #0060A8; padding-left: 10px;\">3.6 - Pays avec la proportion de personnes sous-alimentée la plus forte en 2017</h3>\n",
    "<hr style=\"border: 1px solid #0074CC;\">   "
   ]
  },
  {
   "cell_type": "code",
   "execution_count": 672,
   "id": "2e94e5ee",
   "metadata": {},
   "outputs": [],
   "source": [
    "proportion_sousAlimente = pd.merge(\n",
    "    sousNutrition.loc[sousNutrition['Année'] == '2016-2018', [\"Zone\", \"sous_nutrition\"]],\n",
    "    population.loc[population['Année'] == 2017, [\"Zone\", \"Population\"]],\n",
    "    on='Zone'\n",
    ")\n",
    "#Création de la colonne proportion par pays\n",
    "proportion_sousAlimente['proportion_par_pays'] = (proportion_sousAlimente['sous_nutrition'] / proportion_sousAlimente['Population']).round(2)"
   ]
  },
  {
   "cell_type": "code",
   "execution_count": 673,
   "id": "398fce68",
   "metadata": {},
   "outputs": [
    {
     "data": {
      "text/html": [
       "<div>\n",
       "<style scoped>\n",
       "    .dataframe tbody tr th:only-of-type {\n",
       "        vertical-align: middle;\n",
       "    }\n",
       "\n",
       "    .dataframe tbody tr th {\n",
       "        vertical-align: top;\n",
       "    }\n",
       "\n",
       "    .dataframe thead th {\n",
       "        text-align: right;\n",
       "    }\n",
       "</style>\n",
       "<table border=\"1\" class=\"dataframe\">\n",
       "  <thead>\n",
       "    <tr style=\"text-align: right;\">\n",
       "      <th></th>\n",
       "      <th>Zone</th>\n",
       "      <th>sous_nutrition</th>\n",
       "      <th>Population</th>\n",
       "      <th>proportion_par_pays</th>\n",
       "    </tr>\n",
       "  </thead>\n",
       "  <tbody>\n",
       "    <tr>\n",
       "      <th>78</th>\n",
       "      <td>Haïti</td>\n",
       "      <td>5300000.0</td>\n",
       "      <td>10982366.0</td>\n",
       "      <td>0.48</td>\n",
       "    </tr>\n",
       "    <tr>\n",
       "      <th>157</th>\n",
       "      <td>République populaire démocratique de Corée</td>\n",
       "      <td>12000000.0</td>\n",
       "      <td>25429825.0</td>\n",
       "      <td>0.47</td>\n",
       "    </tr>\n",
       "    <tr>\n",
       "      <th>108</th>\n",
       "      <td>Madagascar</td>\n",
       "      <td>10500000.0</td>\n",
       "      <td>25570512.0</td>\n",
       "      <td>0.41</td>\n",
       "    </tr>\n",
       "    <tr>\n",
       "      <th>103</th>\n",
       "      <td>Libéria</td>\n",
       "      <td>1800000.0</td>\n",
       "      <td>4702226.0</td>\n",
       "      <td>0.38</td>\n",
       "    </tr>\n",
       "    <tr>\n",
       "      <th>183</th>\n",
       "      <td>Tchad</td>\n",
       "      <td>5700000.0</td>\n",
       "      <td>15016753.0</td>\n",
       "      <td>0.38</td>\n",
       "    </tr>\n",
       "    <tr>\n",
       "      <th>100</th>\n",
       "      <td>Lesotho</td>\n",
       "      <td>800000.0</td>\n",
       "      <td>2091534.0</td>\n",
       "      <td>0.38</td>\n",
       "    </tr>\n",
       "    <tr>\n",
       "      <th>161</th>\n",
       "      <td>Rwanda</td>\n",
       "      <td>4200000.0</td>\n",
       "      <td>11980961.0</td>\n",
       "      <td>0.35</td>\n",
       "    </tr>\n",
       "    <tr>\n",
       "      <th>121</th>\n",
       "      <td>Mozambique</td>\n",
       "      <td>9400000.0</td>\n",
       "      <td>28649018.0</td>\n",
       "      <td>0.33</td>\n",
       "    </tr>\n",
       "    <tr>\n",
       "      <th>186</th>\n",
       "      <td>Timor-Leste</td>\n",
       "      <td>400000.0</td>\n",
       "      <td>1243258.0</td>\n",
       "      <td>0.32</td>\n",
       "    </tr>\n",
       "    <tr>\n",
       "      <th>0</th>\n",
       "      <td>Afghanistan</td>\n",
       "      <td>10500000.0</td>\n",
       "      <td>36296113.0</td>\n",
       "      <td>0.29</td>\n",
       "    </tr>\n",
       "  </tbody>\n",
       "</table>\n",
       "</div>"
      ],
      "text/plain": [
       "                                           Zone  sous_nutrition  Population  \\\n",
       "78                                        Haïti       5300000.0  10982366.0   \n",
       "157  République populaire démocratique de Corée      12000000.0  25429825.0   \n",
       "108                                  Madagascar      10500000.0  25570512.0   \n",
       "103                                     Libéria       1800000.0   4702226.0   \n",
       "183                                       Tchad       5700000.0  15016753.0   \n",
       "100                                     Lesotho        800000.0   2091534.0   \n",
       "161                                      Rwanda       4200000.0  11980961.0   \n",
       "121                                  Mozambique       9400000.0  28649018.0   \n",
       "186                                 Timor-Leste        400000.0   1243258.0   \n",
       "0                                   Afghanistan      10500000.0  36296113.0   \n",
       "\n",
       "     proportion_par_pays  \n",
       "78                  0.48  \n",
       "157                 0.47  \n",
       "108                 0.41  \n",
       "103                 0.38  \n",
       "183                 0.38  \n",
       "100                 0.38  \n",
       "161                 0.35  \n",
       "121                 0.33  \n",
       "186                 0.32  \n",
       "0                   0.29  "
      ]
     },
     "execution_count": 673,
     "metadata": {},
     "output_type": "execute_result"
    }
   ],
   "source": [
    "#affichage après trie des 10 pires pays\n",
    "proportion_sousAlimente.sort_values('proportion_par_pays', ascending=False).head(10)\n"
   ]
  },
  {
   "cell_type": "markdown",
   "id": "2aa8927d",
   "metadata": {},
   "source": [
    "<h3 style=\"border-left: 5px solid #0074CC; font-weight: bold; color: #0060A8; padding-left: 10px;\">3.7 - Pays qui ont le plus bénéficié d'aide alimentaire depuis 2013</h3>\n",
    "<hr style=\"border: 1px solid #0074CC;\">   "
   ]
  },
  {
   "cell_type": "code",
   "execution_count": 674,
   "id": "ef05397b",
   "metadata": {},
   "outputs": [
    {
     "name": "stdout",
     "output_type": "stream",
     "text": [
      "           Zone  Aide_alimentaire\n",
      "0   Afghanistan         185452000\n",
      "1       Algérie          81114000\n",
      "2        Angola           5014000\n",
      "3    Bangladesh         348188000\n",
      "4       Bhoutan           2666000\n",
      "..          ...               ...\n",
      "71       Zambie           3026000\n",
      "72     Zimbabwe          62570000\n",
      "73       Égypte           1122000\n",
      "74     Équateur           1362000\n",
      "75     Éthiopie        1381294000\n",
      "\n",
      "[76 rows x 2 columns]\n"
     ]
    }
   ],
   "source": [
    "pays_aideAlimentaire = aideAlimentaire[['Zone', 'Aide_alimentaire']].groupby('Zone')['Aide_alimentaire'].sum().reset_index()\n",
    "print(pays_aideAlimentaire)"
   ]
  },
  {
   "cell_type": "code",
   "execution_count": 675,
   "id": "6f87643e",
   "metadata": {},
   "outputs": [
    {
     "data": {
      "text/html": [
       "<div>\n",
       "<style scoped>\n",
       "    .dataframe tbody tr th:only-of-type {\n",
       "        vertical-align: middle;\n",
       "    }\n",
       "\n",
       "    .dataframe tbody tr th {\n",
       "        vertical-align: top;\n",
       "    }\n",
       "\n",
       "    .dataframe thead th {\n",
       "        text-align: right;\n",
       "    }\n",
       "</style>\n",
       "<table border=\"1\" class=\"dataframe\">\n",
       "  <thead>\n",
       "    <tr style=\"text-align: right;\">\n",
       "      <th></th>\n",
       "      <th>Zone</th>\n",
       "      <th>Aide_alimentaire</th>\n",
       "    </tr>\n",
       "  </thead>\n",
       "  <tbody>\n",
       "    <tr>\n",
       "      <th>50</th>\n",
       "      <td>République arabe syrienne</td>\n",
       "      <td>1858943000</td>\n",
       "    </tr>\n",
       "    <tr>\n",
       "      <th>75</th>\n",
       "      <td>Éthiopie</td>\n",
       "      <td>1381294000</td>\n",
       "    </tr>\n",
       "    <tr>\n",
       "      <th>70</th>\n",
       "      <td>Yémen</td>\n",
       "      <td>1206484000</td>\n",
       "    </tr>\n",
       "    <tr>\n",
       "      <th>61</th>\n",
       "      <td>Soudan du Sud</td>\n",
       "      <td>695248000</td>\n",
       "    </tr>\n",
       "    <tr>\n",
       "      <th>60</th>\n",
       "      <td>Soudan</td>\n",
       "      <td>669784000</td>\n",
       "    </tr>\n",
       "    <tr>\n",
       "      <th>30</th>\n",
       "      <td>Kenya</td>\n",
       "      <td>552836000</td>\n",
       "    </tr>\n",
       "    <tr>\n",
       "      <th>3</th>\n",
       "      <td>Bangladesh</td>\n",
       "      <td>348188000</td>\n",
       "    </tr>\n",
       "    <tr>\n",
       "      <th>59</th>\n",
       "      <td>Somalie</td>\n",
       "      <td>292678000</td>\n",
       "    </tr>\n",
       "    <tr>\n",
       "      <th>53</th>\n",
       "      <td>République démocratique du Congo</td>\n",
       "      <td>288502000</td>\n",
       "    </tr>\n",
       "    <tr>\n",
       "      <th>43</th>\n",
       "      <td>Niger</td>\n",
       "      <td>276344000</td>\n",
       "    </tr>\n",
       "  </tbody>\n",
       "</table>\n",
       "</div>"
      ],
      "text/plain": [
       "                                Zone  Aide_alimentaire\n",
       "50         République arabe syrienne        1858943000\n",
       "75                          Éthiopie        1381294000\n",
       "70                             Yémen        1206484000\n",
       "61                     Soudan du Sud         695248000\n",
       "60                            Soudan         669784000\n",
       "30                             Kenya         552836000\n",
       "3                         Bangladesh         348188000\n",
       "59                           Somalie         292678000\n",
       "53  République démocratique du Congo         288502000\n",
       "43                             Niger         276344000"
      ]
     },
     "execution_count": 675,
     "metadata": {},
     "output_type": "execute_result"
    }
   ],
   "source": [
    "#affichage après trie des 10 pays qui ont bénéficié le plus de l'aide alimentaire\n",
    "pays_aideAlimentaire.sort_values('Aide_alimentaire', ascending=False).head(10)"
   ]
  },
  {
   "cell_type": "markdown",
   "id": "3d517581",
   "metadata": {},
   "source": [
    "<h3 style=\"border-left: 5px solid #0074CC; font-weight: bold; color: #0060A8; padding-left: 10px;\">3.8 - Evolution des 5 pays qui ont le plus bénéficiés de l'aide alimentaire entre 2013 et 2016</h3>\n",
    "<hr style=\"border: 1px solid #0074CC;\">   "
   ]
  },
  {
   "cell_type": "code",
   "execution_count": 676,
   "id": "30f0764c",
   "metadata": {},
   "outputs": [
    {
     "name": "stdout",
     "output_type": "stream",
     "text": [
      "            Zone  Année  Aide_alimentaire\n",
      "0    Afghanistan   2013         128238000\n",
      "1    Afghanistan   2014          57214000\n",
      "2        Algérie   2013          35234000\n",
      "3        Algérie   2014          18980000\n",
      "4        Algérie   2015          17424000\n",
      "..           ...    ...               ...\n",
      "223       Égypte   2013           1122000\n",
      "224     Équateur   2013           1362000\n",
      "225     Éthiopie   2013         591404000\n",
      "226     Éthiopie   2014         586624000\n",
      "227     Éthiopie   2015         203266000\n",
      "\n",
      "[228 rows x 3 columns]\n"
     ]
    }
   ],
   "source": [
    "# Effectuer une opération de groupby sur les colonnes 'Zone' et 'Année' et calculer la somme de l'aide alimentaire\n",
    "aideAlimentaire_evolution = aideAlimentaire.groupby(['Zone', 'Année'])['Aide_alimentaire'].sum().reset_index()\n",
    "print(aideAlimentaire_evolution)"
   ]
  },
  {
   "cell_type": "code",
   "execution_count": 677,
   "id": "a0e9142d",
   "metadata": {},
   "outputs": [],
   "source": [
    "#Création d'une liste contenant les 5 pays qui ont le plus bénéficiées de l'aide alimentaire\n",
    "paysAide = [\"République arabe syrienne\", \"Éthiopie\", \"Yémen\", \"Soudan du Sud\", \"Soudan\"]"
   ]
  },
  {
   "cell_type": "code",
   "execution_count": 678,
   "id": "53da58a0",
   "metadata": {},
   "outputs": [],
   "source": [
    "#filtre sur le dataframe avec notre liste\n",
    "top5_aideAlimentaire = aideAlimentaire_grouped[aideAlimentaire_grouped['Zone'].isin(paysAide)]"
   ]
  },
  {
   "cell_type": "code",
   "execution_count": 679,
   "id": "119b0cbd",
   "metadata": {},
   "outputs": [
    {
     "name": "stdout",
     "output_type": "stream",
     "text": [
      "                          Zone  Année  Aide_alimentaire\n",
      "157  République arabe syrienne   2013         563566000\n",
      "158  République arabe syrienne   2014         651870000\n",
      "159  République arabe syrienne   2015         524949000\n",
      "160  République arabe syrienne   2016         118558000\n",
      "189                     Soudan   2013         330230000\n",
      "190                     Soudan   2014         321904000\n",
      "191                     Soudan   2015          17650000\n",
      "192              Soudan du Sud   2013         196330000\n",
      "193              Soudan du Sud   2014         450610000\n",
      "194              Soudan du Sud   2015          48308000\n",
      "214                      Yémen   2013         264764000\n",
      "215                      Yémen   2014         103840000\n",
      "216                      Yémen   2015         372306000\n",
      "217                      Yémen   2016         465574000\n",
      "225                   Éthiopie   2013         591404000\n",
      "226                   Éthiopie   2014         586624000\n",
      "227                   Éthiopie   2015         203266000\n"
     ]
    }
   ],
   "source": [
    "# Affichage des pays avec l'aide alimentaire par année\n",
    "print(top5_aideAlimentaire)"
   ]
  },
  {
   "cell_type": "markdown",
   "id": "55cdc776",
   "metadata": {},
   "source": [
    "<h3 style=\"border-left: 5px solid #0074CC; font-weight: bold; color: #0060A8; padding-left: 10px;\">3.9 - Pays avec le moins de disponibilité par habitant</h3>\n",
    "<hr style=\"border: 1px solid #0074CC;\">   "
   ]
  },
  {
   "cell_type": "code",
   "execution_count": 680,
   "id": "493aca91",
   "metadata": {},
   "outputs": [
    {
     "data": {
      "text/html": [
       "<div>\n",
       "<style scoped>\n",
       "    .dataframe tbody tr th:only-of-type {\n",
       "        vertical-align: middle;\n",
       "    }\n",
       "\n",
       "    .dataframe tbody tr th {\n",
       "        vertical-align: top;\n",
       "    }\n",
       "\n",
       "    .dataframe thead th {\n",
       "        text-align: right;\n",
       "    }\n",
       "</style>\n",
       "<table border=\"1\" class=\"dataframe\">\n",
       "  <thead>\n",
       "    <tr style=\"text-align: right;\">\n",
       "      <th></th>\n",
       "      <th>Zone</th>\n",
       "      <th>Disponibilité alimentaire (Kcal/personne/jour)</th>\n",
       "    </tr>\n",
       "  </thead>\n",
       "  <tbody>\n",
       "    <tr>\n",
       "      <th>128</th>\n",
       "      <td>République centrafricaine</td>\n",
       "      <td>1879.0</td>\n",
       "    </tr>\n",
       "    <tr>\n",
       "      <th>166</th>\n",
       "      <td>Zambie</td>\n",
       "      <td>1924.0</td>\n",
       "    </tr>\n",
       "    <tr>\n",
       "      <th>91</th>\n",
       "      <td>Madagascar</td>\n",
       "      <td>2056.0</td>\n",
       "    </tr>\n",
       "    <tr>\n",
       "      <th>0</th>\n",
       "      <td>Afghanistan</td>\n",
       "      <td>2087.0</td>\n",
       "    </tr>\n",
       "    <tr>\n",
       "      <th>65</th>\n",
       "      <td>Haïti</td>\n",
       "      <td>2089.0</td>\n",
       "    </tr>\n",
       "    <tr>\n",
       "      <th>133</th>\n",
       "      <td>République populaire démocratique de Corée</td>\n",
       "      <td>2093.0</td>\n",
       "    </tr>\n",
       "    <tr>\n",
       "      <th>151</th>\n",
       "      <td>Tchad</td>\n",
       "      <td>2109.0</td>\n",
       "    </tr>\n",
       "    <tr>\n",
       "      <th>167</th>\n",
       "      <td>Zimbabwe</td>\n",
       "      <td>2113.0</td>\n",
       "    </tr>\n",
       "    <tr>\n",
       "      <th>114</th>\n",
       "      <td>Ouganda</td>\n",
       "      <td>2126.0</td>\n",
       "    </tr>\n",
       "    <tr>\n",
       "      <th>154</th>\n",
       "      <td>Timor-Leste</td>\n",
       "      <td>2129.0</td>\n",
       "    </tr>\n",
       "  </tbody>\n",
       "</table>\n",
       "</div>"
      ],
      "text/plain": [
       "                                           Zone  \\\n",
       "128                   République centrafricaine   \n",
       "166                                      Zambie   \n",
       "91                                   Madagascar   \n",
       "0                                   Afghanistan   \n",
       "65                                        Haïti   \n",
       "133  République populaire démocratique de Corée   \n",
       "151                                       Tchad   \n",
       "167                                    Zimbabwe   \n",
       "114                                     Ouganda   \n",
       "154                                 Timor-Leste   \n",
       "\n",
       "     Disponibilité alimentaire (Kcal/personne/jour)  \n",
       "128                                          1879.0  \n",
       "166                                          1924.0  \n",
       "91                                           2056.0  \n",
       "0                                            2087.0  \n",
       "65                                           2089.0  \n",
       "133                                          2093.0  \n",
       "151                                          2109.0  \n",
       "167                                          2113.0  \n",
       "114                                          2126.0  \n",
       "154                                          2129.0  "
      ]
     },
     "execution_count": 680,
     "metadata": {},
     "output_type": "execute_result"
    }
   ],
   "source": [
    "habitant_dispoAlimentaire = dispoAlimentaire[['Zone', 'Disponibilité alimentaire (Kcal/personne/jour)']].groupby('Zone')['Disponibilité alimentaire (Kcal/personne/jour)'].sum().reset_index()\n",
    "#Affichage des 10 pays qui ont le moins de dispo alimentaire par personne \n",
    "habitant_dispoAlimentaire.sort_values('Disponibilité alimentaire (Kcal/personne/jour)', ascending=True).head(10)"
   ]
  },
  {
   "cell_type": "markdown",
   "id": "19b68642",
   "metadata": {},
   "source": [
    "<h3 style=\"border-left: 5px solid #0074CC; font-weight: bold; color: #0060A8; padding-left: 10px;\">3.10 - Pays avec le plus de disponibilité par habitant</h3>\n",
    "<hr style=\"border: 1px solid #0074CC;\">  "
   ]
  },
  {
   "cell_type": "code",
   "execution_count": 681,
   "id": "e2b1b4b4",
   "metadata": {},
   "outputs": [
    {
     "data": {
      "text/html": [
       "<div>\n",
       "<style scoped>\n",
       "    .dataframe tbody tr th:only-of-type {\n",
       "        vertical-align: middle;\n",
       "    }\n",
       "\n",
       "    .dataframe tbody tr th {\n",
       "        vertical-align: top;\n",
       "    }\n",
       "\n",
       "    .dataframe thead th {\n",
       "        text-align: right;\n",
       "    }\n",
       "</style>\n",
       "<table border=\"1\" class=\"dataframe\">\n",
       "  <thead>\n",
       "    <tr style=\"text-align: right;\">\n",
       "      <th></th>\n",
       "      <th>Zone</th>\n",
       "      <th>Disponibilité alimentaire (Kcal/personne/jour)</th>\n",
       "    </tr>\n",
       "  </thead>\n",
       "  <tbody>\n",
       "    <tr>\n",
       "      <th>11</th>\n",
       "      <td>Autriche</td>\n",
       "      <td>3770.0</td>\n",
       "    </tr>\n",
       "    <tr>\n",
       "      <th>16</th>\n",
       "      <td>Belgique</td>\n",
       "      <td>3737.0</td>\n",
       "    </tr>\n",
       "    <tr>\n",
       "      <th>159</th>\n",
       "      <td>Turquie</td>\n",
       "      <td>3708.0</td>\n",
       "    </tr>\n",
       "    <tr>\n",
       "      <th>171</th>\n",
       "      <td>États-Unis d'Amérique</td>\n",
       "      <td>3682.0</td>\n",
       "    </tr>\n",
       "    <tr>\n",
       "      <th>74</th>\n",
       "      <td>Israël</td>\n",
       "      <td>3610.0</td>\n",
       "    </tr>\n",
       "    <tr>\n",
       "      <th>72</th>\n",
       "      <td>Irlande</td>\n",
       "      <td>3602.0</td>\n",
       "    </tr>\n",
       "    <tr>\n",
       "      <th>75</th>\n",
       "      <td>Italie</td>\n",
       "      <td>3578.0</td>\n",
       "    </tr>\n",
       "    <tr>\n",
       "      <th>89</th>\n",
       "      <td>Luxembourg</td>\n",
       "      <td>3540.0</td>\n",
       "    </tr>\n",
       "    <tr>\n",
       "      <th>168</th>\n",
       "      <td>Égypte</td>\n",
       "      <td>3518.0</td>\n",
       "    </tr>\n",
       "    <tr>\n",
       "      <th>4</th>\n",
       "      <td>Allemagne</td>\n",
       "      <td>3503.0</td>\n",
       "    </tr>\n",
       "  </tbody>\n",
       "</table>\n",
       "</div>"
      ],
      "text/plain": [
       "                      Zone  Disponibilité alimentaire (Kcal/personne/jour)\n",
       "11                Autriche                                          3770.0\n",
       "16                Belgique                                          3737.0\n",
       "159                Turquie                                          3708.0\n",
       "171  États-Unis d'Amérique                                          3682.0\n",
       "74                  Israël                                          3610.0\n",
       "72                 Irlande                                          3602.0\n",
       "75                  Italie                                          3578.0\n",
       "89              Luxembourg                                          3540.0\n",
       "168                 Égypte                                          3518.0\n",
       "4                Allemagne                                          3503.0"
      ]
     },
     "execution_count": 681,
     "metadata": {},
     "output_type": "execute_result"
    }
   ],
   "source": [
    "#Affichage des 10 pays qui ont le plus de dispo alimentaire par personne \n",
    "habitant_dispoAlimentaire.sort_values('Disponibilité alimentaire (Kcal/personne/jour)', ascending=False).head(10)"
   ]
  },
  {
   "cell_type": "markdown",
   "id": "0b7619ea",
   "metadata": {},
   "source": [
    "<h3 style=\"border-left: 5px solid #0074CC; font-weight: bold; color: #0060A8; padding-left: 10px;\">3.11 - Exemple de la Thaïlande pour le Manioc</h3>\n",
    "<hr style=\"border: 1px solid #0074CC;\">  "
   ]
  },
  {
   "cell_type": "code",
   "execution_count": 682,
   "id": "d3083eda",
   "metadata": {},
   "outputs": [
    {
     "name": "stdout",
     "output_type": "stream",
     "text": [
      "Moyenne de la sous-nutrition en Thaïlande : 6133333.333333333\n"
     ]
    }
   ],
   "source": [
    "#Calcul de la sous nutrition en Thaïlande\n",
    "thailande_sousNutrition = sousNutrition.loc[(sousNutrition['Zone'] == 'Thaïlande'), [\"Zone\", \"Année\", \"sous_nutrition\"]]\n",
    "# Calculer la moyenne de la sous-nutrition en Thaïlande\n",
    "moyenne_sous_nutrition = thailande_sousNutrition['sous_nutrition'].mean()\n",
    "print(\"Moyenne de la sous-nutrition en Thaïlande :\", moyenne_sous_nutrition)"
   ]
  },
  {
   "cell_type": "code",
   "execution_count": 683,
   "id": "df0fa3d4",
   "metadata": {},
   "outputs": [
    {
     "name": "stdout",
     "output_type": "stream",
     "text": [
      "Proportion de Manioc exportée : 83.41%\n"
     ]
    }
   ],
   "source": [
    "# On calcule la proportion exportée en fonction de la proportion\n",
    "thailande_manioc = dispoAlimentaire.loc[(dispoAlimentaire['Zone'] == 'Thaïlande')&(dispoAlimentaire['Produit'] == 'Manioc') , [\"Zone\", \"Produit\", \"Production\", \"Exportations - Quantité\", \"Nourriture\"]]\n",
    "thailande_manioc['Proportion Exportée'] = (thailande_manioc['Exportations - Quantité'] / thailande_manioc['Production'] * 100).round(2)\n",
    "print(\"Proportion de Manioc exportée : {:.2f}%\".format(thailande_manioc['Proportion Exportée'].values[0]))"
   ]
  },
  {
   "cell_type": "code",
   "execution_count": 684,
   "id": "31a8e9c4",
   "metadata": {},
   "outputs": [
    {
     "name": "stdout",
     "output_type": "stream",
     "text": [
      "Proportion de Manioc utilisée pour nourrir la population en Thaïlande : 2.9%\n"
     ]
    }
   ],
   "source": [
    "# Calculez la proportion de manioc utilisée pour la nourriture en pourcentage\n",
    "proportion_nourriture_manioc = round((thailande_manioc['Nourriture'] / thailande_manioc['Production']) * 100, 1)\n",
    "\n",
    "# Affichez la proportion de manioc utilisée pour nourrir la population en Thaïlande\n",
    "print(f\"Proportion de Manioc utilisée pour nourrir la population en Thaïlande : {proportion_nourriture_manioc.values[0]}%\")\n"
   ]
  },
  {
   "cell_type": "markdown",
   "id": "ddf5e1eb",
   "metadata": {},
   "source": [
    "<div style=\"border: 2px solid #001F3F; background-color: #FFFFFF; padding: 10px; text-align: center;\">\n",
    "    <h2 style=\"font-weight: bold; color: #001F3F;\">Etape 3 - Analyse complémentaires</h2>\n",
    "</div>"
   ]
  },
  {
   "cell_type": "markdown",
   "id": "bc319f5e",
   "metadata": {},
   "source": [
    "<h3 style=\"border-left: 5px solid #0074CC; font-weight: bold; color: #0060A8; padding-left: 10px;\">Analyse du gaspillage alimentaire</h3>\n",
    "<hr style=\"border: 1px solid #0074CC;\">  "
   ]
  },
  {
   "cell_type": "code",
   "execution_count": 685,
   "id": "ae7b2b7c",
   "metadata": {
    "scrolled": true
   },
   "outputs": [
    {
     "name": "stdout",
     "output_type": "stream",
     "text": [
      "Taux global de gaspillage alimentaire : 2.20%\n",
      "\n",
      "Les 10 pays avec les taux de gaspillage les plus élevés :\n",
      "Zone\n",
      "Sierra Leone    33.35\n",
      "Ghana           19.08\n",
      "Cameroun        15.18\n",
      "Angola          14.98\n",
      "Dominique       14.18\n",
      "Guinée          12.78\n",
      "Malawi          12.22\n",
      "Togo            11.62\n",
      "Bulgarie        11.52\n",
      "Bénin           11.34\n",
      "dtype: float64\n"
     ]
    }
   ],
   "source": [
    "# Calcul du taux global de gaspillage alimentaire\n",
    "dispoAlimentaire['Taux de Gaspillage'] = dispoAlimentaire['Pertes'] / dispoAlimentaire['Disponibilité intérieure'] *100\n",
    "# Afficher le taux global de gaspillage alimentaire\n",
    "taux_global = dispoAlimentaire['Taux de Gaspillage'].mean()\n",
    "print(\"Taux global de gaspillage alimentaire : {:.2f}%\".format(taux_global))\n",
    "\n",
    "# Calcul du taux global de gaspillage alimentaire par pays\n",
    "taux_global_par_pays = round(dispoAlimentaire.groupby('Zone')['Pertes'].sum() / dispoAlimentaire.groupby('Zone')['Disponibilité intérieure'].sum() * 100,2)\n",
    "\n",
    "# Afficher les 10 pays avec le taux le plus élevé de gaspillage\n",
    "top_10_gaspi = taux_global_par_pays.nlargest(10)\n",
    "print(\"\\nLes 10 pays avec les taux de gaspillage les plus élevés :\")\n",
    "print(top_10_gaspi)\n",
    "top_10_gaspi.to_csv('top_10_gaspi.csv', index=False)"
   ]
  },
  {
   "cell_type": "code",
   "execution_count": 686,
   "id": "27092f39",
   "metadata": {},
   "outputs": [
    {
     "name": "stdout",
     "output_type": "stream",
     "text": [
      "Le total de disponibilité alimentaire gaspillée est de 169506532435263.09 Kcal.\n",
      "Cela pourrait nourrir environ 206400648 êtres humains.\n"
     ]
    }
   ],
   "source": [
    "# Calcul du nombre de personnes qui pourraient être nourries avec les 2,22 % de gaspillage\n",
    "gaspillage_total_kcal = dispo_alimentaire2017['dispo_kcal'].sum() * 0.0222  # 2,22 % en kilocalories\n",
    "personnes_nourries = round(gaspillage_total_kcal / (365 * moyenneKcal))\n",
    "\n",
    "print(\"Le total de disponibilité alimentaire gaspillée est de {:.2f} Kcal.\".format(gaspillage_total_kcal))\n",
    "print(\"Cela pourrait nourrir environ\", personnes_nourries, \"êtres humains.\")"
   ]
  },
  {
   "cell_type": "code",
   "execution_count": 687,
   "id": "e2b490b9",
   "metadata": {},
   "outputs": [
    {
     "name": "stdout",
     "output_type": "stream",
     "text": [
      "                               Type de Produit  Taux de Gaspillage Global\n",
      "0                           Céréales et Grains                       4.45\n",
      "1                                       Fruits                       9.33\n",
      "2                                      Légumes                       7.44\n",
      "3                   Viandes et Produits Carnés                       0.26\n",
      "4                Produits Laitiers et Graisses                       2.10\n",
      "5             Cultures et Graines Oléagineuses                       2.74\n",
      "6                              Produits sucrés                       3.04\n",
      "7                                     Boissons                       0.59\n",
      "8                              Autres Produits                       0.17\n",
      "9   Produits à base de plantes et Légumineuses                       3.67\n",
      "10                             Produits Marins                       0.50\n"
     ]
    }
   ],
   "source": [
    "# Listes de produits par type de produit\n",
    "cereales_et_grains = [\"Blé\", \"Maïs\", \"Orge\", \"Riz (Eq Blanchi)\", \"Millet\", \"Avoine\", \"Seigle\", \"Sorgho\", \"Céréales, Autres\"]\n",
    "fruits = [\"Agrumes, Autres\", \"Ananas\", \"Bananes\", \"Dattes\", \"Fruits, Autres\", \"Pommes\", \"Raisin\", \"Citrons & Limes\", \"Pamplemousse\"]\n",
    "legumes = [\"Légumes, Autres\", \"Tomates\", \"Pommes de Terre\", \"Pois\", \"Ignames\", \"Patates douces\", \"Oignons\", \"Racines nda\", \"Piments\", \"Soja\"]\n",
    "viandes_et_produits_carnes = [\"Abats Comestible\", \"Viande d'Ovins/Caprins\", \"Viande de Bovins\", \"Viande de Volailles\", \"Viande, Autre\", \"Viande de Suides\", \"Cephalopodes\", \"Crustacés\", \"Mollusques, Autres\", \"Poissons Marins, Autres\", \"Poissons Pelagiques\", \"Perciform\", \"Poissons Eau Douce\", \"Animaux Aquatiques Autre\"]\n",
    "produits_laitiers_et_graisses = [\"Beurre, Ghee\", \"Crème\", \"Graisses Animales Crue\", \"Huile Graines de Coton\", \"Huile d'Arachide\", \"Huile d'Olive\", \"Huile de Colza&Moutarde\", \"Huile de Palme\", \"Huile de Soja\", \"Huile de Sésame\", \"Huile de Tournesol\", \"Lait - Excl Beurre\", \"Huile de Coco\", \"Huile de Germe de Maïs\", \"Huile de Palmistes\", \"Huiles de Foie de Poisso\", \"Huiles de Poissons\", \"Huile de Son de Riz\"]\n",
    "cultures_et_graines_oleagineuses = [\"Graines de coton\", \"Graines de tournesol\", \"Graines Colza/Moutarde\", \"Graines de Sésame\"]\n",
    "produits_sucres = [\"Sucre Eq Brut\", \"Sucre, betterave\", \"Sucre, canne\", \"Sucre non centrifugé\"]\n",
    "boissons = [\"Bière\", \"Boissons Alcooliques\", \"Boissons Fermentés\", \"Vin\", \"Thé\", \"Café\"]\n",
    "autres_produits = [\"Alcool, non Comestible\", \"Miscellanees\", \"Épices, Autres\", \"Aliments pour enfants\", \"Edulcorants Autres\"]\n",
    "produits_a_base_de_plantes_et_legumineuses = [\"Coco (Incl Coprah)\", \"Graines de coton\", \"Arachides Decortiquees\", \"Palmistes\", \"Miel\", \"Graines Colza/Moutarde\", \"Haricots\", \"Poivre\", \"Poissons\", \"Palmistes\", \"Noix\", \"Olives\", \"Oeufs\", \"Légumineuses Autres\"]\n",
    "produits_marins = [\"Piments\", \"Plantes Aquatiques\"]\n",
    "\n",
    "# Liste des types de produits\n",
    "types_de_produits = [\n",
    "    (\"Céréales et Grains\", cereales_et_grains),\n",
    "    (\"Fruits\", fruits),\n",
    "    (\"Légumes\", legumes),\n",
    "    (\"Viandes et Produits Carnés\", viandes_et_produits_carnes),\n",
    "    (\"Produits Laitiers et Graisses\", produits_laitiers_et_graisses),\n",
    "    (\"Cultures et Graines Oléagineuses\", cultures_et_graines_oleagineuses),\n",
    "    (\"Produits sucrés\", produits_sucres),\n",
    "    (\"Boissons\", boissons),\n",
    "    (\"Autres Produits\", autres_produits),\n",
    "    (\"Produits à base de plantes et Légumineuses\", produits_a_base_de_plantes_et_legumineuses),\n",
    "    (\"Produits Marins\", produits_marins)\n",
    "]\n",
    "    \n",
    "# Créez une liste pour stocker les taux de gaspillage globaux par type de produit\n",
    "taux_globaux_par_type = []\n",
    "\n",
    "# Créez une liste pour stocker les noms de type de produit\n",
    "types_de_produits_noms = []\n",
    "\n",
    "for nom_type, liste_de_produits_pour_ce_type in types_de_produits:\n",
    "    # Sélectionnez les produits correspondant à ce type\n",
    "    produits_du_type = dispoAlimentaire[dispoAlimentaire['Produit'].isin(liste_de_produits_pour_ce_type)].copy()  # Créez une copie du DataFrame\n",
    "\n",
    "    # Calcul du taux de gaspillage global pour ce type de produit\n",
    "    taux_gaspillage_global = round(produits_du_type['Pertes'].sum() / produits_du_type['Disponibilité intérieure'].sum() * 100, 2)\n",
    "\n",
    "    # Ajoutez le taux global à la liste\n",
    "    taux_globaux_par_type.append(taux_gaspillage_global)\n",
    "    \n",
    "    # Ajoutez le nom du type de produit à la liste\n",
    "    types_de_produits_noms.append(nom_type)\n",
    "\n",
    "# Créez un DataFrame avec les résultats\n",
    "tableau_resultats = pd.DataFrame({'Type de Produit': types_de_produits_noms, 'Taux de Gaspillage Global': taux_globaux_par_type})\n",
    "print(tableau_resultats)\n"
   ]
  },
  {
   "cell_type": "markdown",
   "id": "02d22016",
   "metadata": {},
   "source": [
    "<h3 style=\"border-left: 5px solid #0074CC; font-weight: bold; color: #0060A8; padding-left: 10px;\">Part de l’utilisation des principales céréales entre l’alimentation humaine et animale\n",
    "</h3>\n",
    "<hr style=\"border: 1px solid #0074CC;\">  "
   ]
  },
  {
   "cell_type": "code",
   "execution_count": 688,
   "id": "e89858bb",
   "metadata": {},
   "outputs": [
    {
     "name": "stdout",
     "output_type": "stream",
     "text": [
      "            Céréale Proportion pour l'alimentation humaine (%)  \\\n",
      "0               Blé                                         67   \n",
      "1  Riz (Eq Blanchi)                                         79   \n",
      "2              Orge                                          5   \n",
      "3              Maïs                                         13   \n",
      "4            Seigle                                         33   \n",
      "5            Avoine                                         17   \n",
      "6            Millet                                         77   \n",
      "7            Sorgho                                         41   \n",
      "8  Céréales, Autres                                         19   \n",
      "\n",
      "  Proportion pour l'alimentation animale (%)  \n",
      "0                                         19  \n",
      "1                                          7  \n",
      "2                                         66  \n",
      "3                                         57  \n",
      "4                                         49  \n",
      "5                                         69  \n",
      "6                                         11  \n",
      "7                                         43  \n",
      "8                                         69  \n"
     ]
    }
   ],
   "source": [
    "# Création d'un nouveau DataFrame pour stocker les proportions\n",
    "proportions_df = pd.DataFrame(columns=['Céréale', 'Proportion pour l\\'alimentation humaine (%)', 'Proportion pour l\\'alimentation animale (%)'])\n",
    "\n",
    "for cereale_name in liste_cereale:\n",
    "    # Création d'un sous-DataFrame pour une céréale spécifique\n",
    "    cereale = dispoAlimentaire[dispoAlimentaire['Produit'] == cereale_name]\n",
    "    \n",
    "    # Calcul de la proportion d'alimentation humaine et arrondi\n",
    "    proportion_humaine = round((cereale['Nourriture'].sum() / cereale['Disponibilité intérieure'].sum()) * 100)\n",
    "    \n",
    "    # Calcul de la proportion d'alimentation animale et arrondi\n",
    "    proportion_animale = round((cereale['Aliments pour animaux'].sum() / cereale['Disponibilité intérieure'].sum()) * 100)\n",
    "    \n",
    "    # Ajout des données dans le DataFrame des proportions en utilisant pandas.concat\n",
    "    proportions_df = pd.concat([proportions_df, pd.DataFrame({'Céréale': [cereale_name], 'Proportion pour l\\'alimentation humaine (%)': [proportion_humaine], 'Proportion pour l\\'alimentation animale (%)': [proportion_animale]})], ignore_index=True)\n",
    "\n",
    "# Affichage du tableau de proportions\n",
    "print(proportions_df)"
   ]
  },
  {
   "cell_type": "code",
   "execution_count": null,
   "id": "2d9f5ddc",
   "metadata": {},
   "outputs": [],
   "source": []
  }
 ],
 "metadata": {
  "kernelspec": {
   "display_name": "Python 3 (ipykernel)",
   "language": "python",
   "name": "python3"
  },
  "language_info": {
   "codemirror_mode": {
    "name": "ipython",
    "version": 3
   },
   "file_extension": ".py",
   "mimetype": "text/x-python",
   "name": "python",
   "nbconvert_exporter": "python",
   "pygments_lexer": "ipython3",
   "version": "3.11.4"
  }
 },
 "nbformat": 4,
 "nbformat_minor": 5
}
